{
  "nbformat": 4,
  "nbformat_minor": 0,
  "metadata": {
    "colab": {
      "name": "PySpark Clustering.ipynb",
      "provenance": [],
      "collapsed_sections": [],
      "toc_visible": true
    },
    "kernelspec": {
      "name": "python3",
      "display_name": "Python 3"
    },
    "accelerator": "GPU"
  },
  "cells": [
    {
      "cell_type": "code",
      "metadata": {
        "id": "HOKPThNuM0dh",
        "colab_type": "code",
        "colab": {
          "resources": {
            "http://localhost:8080/nbextensions/google.colab/files.js": {
              "data": "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",
              "ok": true,
              "headers": [
                [
                  "content-type",
                  "application/javascript"
                ]
              ],
              "status": 200,
              "status_text": "OK"
            }
          },
          "base_uri": "https://localhost:8080/",
          "height": 98
        },
        "outputId": "7b148960-3788-45e2-ccc0-999dd944e193"
      },
      "source": [
        "from google.colab import files\n",
        "files.upload()"
      ],
      "execution_count": 4,
      "outputs": [
        {
          "output_type": "display_data",
          "data": {
            "text/html": [
              "\n",
              "     <input type=\"file\" id=\"files-dddf169c-1f3c-483e-b769-5e2cccb924df\" name=\"files[]\" multiple disabled\n",
              "        style=\"border:none\" />\n",
              "     <output id=\"result-dddf169c-1f3c-483e-b769-5e2cccb924df\">\n",
              "      Upload widget is only available when the cell has been executed in the\n",
              "      current browser session. Please rerun this cell to enable.\n",
              "      </output>\n",
              "      <script src=\"/nbextensions/google.colab/files.js\"></script> "
            ],
            "text/plain": [
              "<IPython.core.display.HTML object>"
            ]
          },
          "metadata": {
            "tags": []
          }
        },
        {
          "output_type": "stream",
          "text": [
            "Saving kaggle.json to kaggle (1).json\n"
          ],
          "name": "stdout"
        },
        {
          "output_type": "execute_result",
          "data": {
            "text/plain": [
              "{'kaggle.json': b'{\"username\":\"hasanmoni\",\"key\":\"9bf0c863cb37dea547dcfe75cc650d90\"}'}"
            ]
          },
          "metadata": {
            "tags": []
          },
          "execution_count": 4
        }
      ]
    },
    {
      "cell_type": "code",
      "metadata": {
        "id": "pmvKe9oSM7Kf",
        "colab_type": "code",
        "colab": {
          "base_uri": "https://localhost:8080/",
          "height": 34
        },
        "outputId": "497f7ab6-7c9c-45d8-dec7-8c997586a26d"
      },
      "source": [
        "!pip install -q kaggle\n",
        "!mkdir -p ~/.kaggle\n",
        "!cp kaggle.json ~/.kaggle/\n",
        "!ls ~/.kaggle\n",
        "!chmod 600 /root/.kaggle/kaggle.json  # set permission\n"
      ],
      "execution_count": 5,
      "outputs": [
        {
          "output_type": "stream",
          "text": [
            "kaggle.json\n"
          ],
          "name": "stdout"
        }
      ]
    },
    {
      "cell_type": "code",
      "metadata": {
        "id": "zHgkN6SiM7NU",
        "colab_type": "code",
        "colab": {}
      },
      "source": [
        ""
      ],
      "execution_count": null,
      "outputs": []
    },
    {
      "cell_type": "code",
      "metadata": {
        "id": "cwiH2i2XM7P0",
        "colab_type": "code",
        "colab": {}
      },
      "source": [
        "!apt-get install openjdk-8-jdk-headless -qq > /dev/null\n",
        "!wget -q http://apache.osuosl.org/spark/spark-3.0.0/spark-3.0.0-bin-hadoop2.7.tgz\n",
        "!tar xf spark-3.0.0-bin-hadoop2.7.tgz\n",
        "!pip install -q findspark"
      ],
      "execution_count": 12,
      "outputs": []
    },
    {
      "cell_type": "code",
      "metadata": {
        "id": "T0_UAl-_M7S0",
        "colab_type": "code",
        "colab": {}
      },
      "source": [
        "import os\n",
        "os.environ[\"JAVA_HOME\"] = \"/usr/lib/jvm/java-8-openjdk-amd64\"\n",
        "os.environ[\"SPARK_HOME\"] = \"/content/spark-3.0.0-bin-hadoop2.7\""
      ],
      "execution_count": 13,
      "outputs": []
    },
    {
      "cell_type": "code",
      "metadata": {
        "id": "G1Ejk75-M7XQ",
        "colab_type": "code",
        "colab": {}
      },
      "source": [
        ""
      ],
      "execution_count": null,
      "outputs": []
    },
    {
      "cell_type": "markdown",
      "metadata": {
        "id": "XCJHodDkuVVm",
        "colab_type": "text"
      },
      "source": [
        "##### I Completed this project on Google Colaboratory. For this I written some code in upper cell to access google colaboratory. If you run this code on your local machine you don't need upper cells!"
      ]
    },
    {
      "cell_type": "code",
      "metadata": {
        "id": "PlOcps6xNyjd",
        "colab_type": "code",
        "colab": {}
      },
      "source": [
        "import findspark\n",
        "findspark.init()\n",
        "from pyspark.sql import SparkSession\n",
        "from pyspark.sql.functions import isnan, when, count, col, round, mean, isnull\n",
        "from pyspark.sql import functions as F\n",
        "import matplotlib.pyplot as plt\n",
        "import seaborn as sns\n",
        "from pyspark.ml.feature import VectorAssembler, VectorIndexer, OneHotEncoder, StringIndexer\n",
        "from pyspark.ml import Pipeline\n",
        "from pyspark.ml.feature import StandardScaler\n",
        "import numpy as np\n",
        "from pyspark.ml.clustering import KMeans\n",
        "from pyspark.ml.clustering import BisectingKMeans\n",
        "import pandas as pd\n",
        "\n",
        "from mpl_toolkits.mplot3d import Axes3D\n"
      ],
      "execution_count": 104,
      "outputs": []
    },
    {
      "cell_type": "code",
      "metadata": {
        "id": "7NvAz5bbM7aF",
        "colab_type": "code",
        "colab": {}
      },
      "source": [
        "spark = SparkSession.builder \\\n",
        "     .master(\"local[*]\") \\\n",
        "     .appName(\"Mobile_Price_Prediction\") \\\n",
        "     .config(\"spark.some.config.option\", \"some-value\") \\\n",
        "     .getOrCreate()\n",
        "     "
      ],
      "execution_count": 17,
      "outputs": []
    },
    {
      "cell_type": "code",
      "metadata": {
        "id": "XNCdQBRjM7eq",
        "colab_type": "code",
        "colab": {}
      },
      "source": [
        ""
      ],
      "execution_count": null,
      "outputs": []
    },
    {
      "cell_type": "markdown",
      "metadata": {
        "id": "lk8v06reOV9H",
        "colab_type": "text"
      },
      "source": [
        "## Reading Dataset"
      ]
    },
    {
      "cell_type": "code",
      "metadata": {
        "id": "z5OiLRoNSN22",
        "colab_type": "code",
        "colab": {}
      },
      "source": [
        "#Initializing File Type\n",
        "file_type = 'text'\n",
        "path=r'/content/drive/My Drive/Big Data Project/mobile_price.csv'\n",
        "delimeter=','\n"
      ],
      "execution_count": 18,
      "outputs": []
    },
    {
      "cell_type": "code",
      "metadata": {
        "id": "eyBYqEGTSQzk",
        "colab_type": "code",
        "colab": {}
      },
      "source": [
        "def load_data(file_type):\n",
        "    \"\"\"input type of file \"text\" or \"parquet\" and Return pyspark dataframe\"\"\"\n",
        "    if file_type ==\"text\": # use text as file type input\n",
        "        df = spark.read.option(\"header\", \"true\") \\\n",
        "        .option(\"delimeter\",delimeter)\\\n",
        "        .option(\"inferSchema\", \"true\") \\\n",
        "        .csv(path) \n",
        "    else:  \n",
        "        df= spark.read.parquet(\"example.parquet\") #path file that you want import\n",
        "    return df"
      ],
      "execution_count": 19,
      "outputs": []
    },
    {
      "cell_type": "code",
      "metadata": {
        "id": "R-4Kuw0RSQ5l",
        "colab_type": "code",
        "colab": {}
      },
      "source": [
        "df = load_data(file_type)"
      ],
      "execution_count": 20,
      "outputs": []
    },
    {
      "cell_type": "code",
      "metadata": {
        "id": "84hljSxFSQ9y",
        "colab_type": "code",
        "colab": {
          "base_uri": "https://localhost:8080/",
          "height": 315
        },
        "outputId": "8bcb9b46-6e81-4d6a-cdce-c34ad962c0c1"
      },
      "source": [
        "df.show(10)"
      ],
      "execution_count": 21,
      "outputs": [
        {
          "output_type": "stream",
          "text": [
            "+-------------+----+-----------+--------+---+------+----------+-----+---------+-------+---+---------+--------+----+----+----+---------+-------+------------+----+-----------+\n",
            "|battery_power|blue|clock_speed|dual_sim| fc|four_g|int_memory|m_dep|mobile_wt|n_cores| pc|px_height|px_width| ram|sc_h|sc_w|talk_time|three_g|touch_screen|wifi|price_range|\n",
            "+-------------+----+-----------+--------+---+------+----------+-----+---------+-------+---+---------+--------+----+----+----+---------+-------+------------+----+-----------+\n",
            "|          842|  no|        2.2|      no|  1|    no|         7|  0.6|      188|    two|  2|       20|     756|2549|   9|   7|       19|     no|          no| yes|          1|\n",
            "|         1021| yes|        0.5|     yes|  0|   yes|        53|  0.7|      136|  three|  6|      905|    1988|2631|  17|   3|        7|    yes|         yes|  no|          2|\n",
            "|          563| yes|        0.5|     yes|  2|   yes|        41|  0.9|      145|   five|  6|     1263|    1716|2603|  11|   2|        9|    yes|         yes|  no|          2|\n",
            "|          615| yes|        2.5|      no|  0|    no|        10|  0.8|      131|    six|  9|     1216|    1786|2769|  16|   8|       11|    yes|          no|  no|          2|\n",
            "|         1821| yes|        1.2|      no| 13|   yes|        44|  0.6|      141|    two| 14|     1208|    1212|1411|   8|   2|       15|    yes|         yes|  no|          1|\n",
            "|         1859|  no|        0.5|     yes|  3|    no|        22|  0.7|      164|    one|  7|     1004|    1654|1067|  17|   1|       10|    yes|          no|  no|          1|\n",
            "|         1821|  no|        1.7|      no|  4|   yes|        10|  0.8|      139|   null| 10|      381|    1018|3220|  13|   8|       18|    yes|          no| yes|          3|\n",
            "|         1954|  no|        0.5|     yes|  0|    no|        24|  0.8|      187|   four|  0|      512|    1149| 700|  16|   3|        5|    yes|         yes| yes|          0|\n",
            "|         1445| yes|        0.5|      no|  0|    no|        53|  0.7|      174|  seven| 14|      386|     836|1099|  17|   1|       20|    yes|          no|  no|          0|\n",
            "|          509| yes|        0.6|     yes|  2|   yes|         9|  0.1|       93|   five| 15|     1137|    1224| 513|  19|  10|       12|    yes|          no|  no|          0|\n",
            "+-------------+----+-----------+--------+---+------+----------+-----+---------+-------+---+---------+--------+----+----+----+---------+-------+------------+----+-----------+\n",
            "only showing top 10 rows\n",
            "\n"
          ],
          "name": "stdout"
        }
      ]
    },
    {
      "cell_type": "code",
      "metadata": {
        "id": "1VHSSOYwSRCa",
        "colab_type": "code",
        "colab": {
          "base_uri": "https://localhost:8080/",
          "height": 416
        },
        "outputId": "f1846694-189f-4737-c89c-ed4ef6e8caa5"
      },
      "source": [
        "df.printSchema()"
      ],
      "execution_count": 22,
      "outputs": [
        {
          "output_type": "stream",
          "text": [
            "root\n",
            " |-- battery_power: integer (nullable = true)\n",
            " |-- blue: string (nullable = true)\n",
            " |-- clock_speed: double (nullable = true)\n",
            " |-- dual_sim: string (nullable = true)\n",
            " |-- fc: integer (nullable = true)\n",
            " |-- four_g: string (nullable = true)\n",
            " |-- int_memory: integer (nullable = true)\n",
            " |-- m_dep: double (nullable = true)\n",
            " |-- mobile_wt: integer (nullable = true)\n",
            " |-- n_cores: string (nullable = true)\n",
            " |-- pc: integer (nullable = true)\n",
            " |-- px_height: integer (nullable = true)\n",
            " |-- px_width: integer (nullable = true)\n",
            " |-- ram: integer (nullable = true)\n",
            " |-- sc_h: integer (nullable = true)\n",
            " |-- sc_w: integer (nullable = true)\n",
            " |-- talk_time: integer (nullable = true)\n",
            " |-- three_g: string (nullable = true)\n",
            " |-- touch_screen: string (nullable = true)\n",
            " |-- wifi: string (nullable = true)\n",
            " |-- price_range: integer (nullable = true)\n",
            "\n"
          ],
          "name": "stdout"
        }
      ]
    },
    {
      "cell_type": "code",
      "metadata": {
        "id": "MqFzYzoyRp4-",
        "colab_type": "code",
        "colab": {
          "base_uri": "https://localhost:8080/",
          "height": 34
        },
        "outputId": "4e1468a7-72c1-4b06-90c9-2b25b96d15c0"
      },
      "source": [
        "#total number of columns\n",
        "len(df.columns)"
      ],
      "execution_count": 23,
      "outputs": [
        {
          "output_type": "execute_result",
          "data": {
            "text/plain": [
              "21"
            ]
          },
          "metadata": {
            "tags": []
          },
          "execution_count": 23
        }
      ]
    },
    {
      "cell_type": "code",
      "metadata": {
        "id": "6YriCwekM7vX",
        "colab_type": "code",
        "colab": {
          "base_uri": "https://localhost:8080/",
          "height": 34
        },
        "outputId": "88a465ea-22c6-4851-9239-b822ecab8978"
      },
      "source": [
        "#total number of rows\n",
        "df.count()"
      ],
      "execution_count": 24,
      "outputs": [
        {
          "output_type": "execute_result",
          "data": {
            "text/plain": [
              "2000"
            ]
          },
          "metadata": {
            "tags": []
          },
          "execution_count": 24
        }
      ]
    },
    {
      "cell_type": "code",
      "metadata": {
        "id": "NYcuQZbWM7q_",
        "colab_type": "code",
        "colab": {}
      },
      "source": [
        ""
      ],
      "execution_count": null,
      "outputs": []
    },
    {
      "cell_type": "markdown",
      "metadata": {
        "id": "8-Pyr_HRPqJX",
        "colab_type": "text"
      },
      "source": [
        "## Changing Columns Name"
      ]
    },
    {
      "cell_type": "code",
      "metadata": {
        "id": "6f28QrG-M7lz",
        "colab_type": "code",
        "colab": {}
      },
      "source": [
        "df = df.withColumnRenamed('blue', 'blue_color')\n",
        "df = df.withColumnRenamed('int_memory', 'internal_memory')\n",
        "df = df.withColumnRenamed('mobile_wt', 'mobile_weight')\n",
        "df = df.withColumnRenamed('three_g', 'three_generation')\n",
        "df = df.withColumnRenamed('wifi', 'wifi_connection')\n"
      ],
      "execution_count": 25,
      "outputs": []
    },
    {
      "cell_type": "code",
      "metadata": {
        "id": "1TvwV9XxM7kw",
        "colab_type": "code",
        "colab": {}
      },
      "source": [
        ""
      ],
      "execution_count": null,
      "outputs": []
    },
    {
      "cell_type": "markdown",
      "metadata": {
        "id": "NHfLsrWzT5l6",
        "colab_type": "text"
      },
      "source": [
        "## Categorical and Numerical Columns"
      ]
    },
    {
      "cell_type": "code",
      "metadata": {
        "id": "mUxZ9ESWM7cR",
        "colab_type": "code",
        "colab": {
          "base_uri": "https://localhost:8080/",
          "height": 54
        },
        "outputId": "b684bc4e-1a68-4316-b03d-81970ac014e7"
      },
      "source": [
        "#categorical column\n",
        "cat_cols = [item[0] for item in df.dtypes if item[1].startswith('string')] #just will select string data type\n",
        "print(\"cat_cols:\", cat_cols)\n"
      ],
      "execution_count": 26,
      "outputs": [
        {
          "output_type": "stream",
          "text": [
            "cat_cols: ['blue_color', 'dual_sim', 'four_g', 'n_cores', 'three_generation', 'touch_screen', 'wifi_connection']\n"
          ],
          "name": "stdout"
        }
      ]
    },
    {
      "cell_type": "code",
      "metadata": {
        "id": "JkpIPT3nM7Vq",
        "colab_type": "code",
        "colab": {
          "base_uri": "https://localhost:8080/",
          "height": 54
        },
        "outputId": "5ff91c9f-c76f-4340-a981-1fd30452f7c2"
      },
      "source": [
        "#numerical columns\n",
        "num_cols = [item[0] for item in df.dtypes if item[1].startswith('int') | item[1].startswith('double')] #just will select integer or double data type\n",
        "print(\"num_cols:\", num_cols)\n"
      ],
      "execution_count": 27,
      "outputs": [
        {
          "output_type": "stream",
          "text": [
            "num_cols: ['battery_power', 'clock_speed', 'fc', 'internal_memory', 'm_dep', 'mobile_weight', 'pc', 'px_height', 'px_width', 'ram', 'sc_h', 'sc_w', 'talk_time', 'price_range']\n"
          ],
          "name": "stdout"
        }
      ]
    },
    {
      "cell_type": "code",
      "metadata": {
        "id": "ciEHEYxlUkda",
        "colab_type": "code",
        "colab": {}
      },
      "source": [
        ""
      ],
      "execution_count": null,
      "outputs": []
    },
    {
      "cell_type": "markdown",
      "metadata": {
        "id": "PHrZ2rb-V5Yx",
        "colab_type": "text"
      },
      "source": [
        "## Summary of the Numerical Columns"
      ]
    },
    {
      "cell_type": "code",
      "metadata": {
        "id": "w5mhMqdAUkpJ",
        "colab_type": "code",
        "colab": {
          "base_uri": "https://localhost:8080/",
          "height": 211
        },
        "outputId": "058d4ff7-692b-483e-8dff-357daf810e82"
      },
      "source": [
        "df.select(num_cols).describe().show()"
      ],
      "execution_count": 28,
      "outputs": [
        {
          "output_type": "stream",
          "text": [
            "+-------+------------------+------------------+-----------------+------------------+------------------+-----------------+-----------------+------------------+------------------+------------------+-----------------+-----------------+-----------------+------------------+\n",
            "|summary|     battery_power|       clock_speed|               fc|   internal_memory|             m_dep|    mobile_weight|               pc|         px_height|          px_width|               ram|             sc_h|             sc_w|        talk_time|       price_range|\n",
            "+-------+------------------+------------------+-----------------+------------------+------------------+-----------------+-----------------+------------------+------------------+------------------+-----------------+-----------------+-----------------+------------------+\n",
            "|  count|              1999|              1999|             2000|              1999|              1999|             2000|             2000|              2000|              1996|              2000|             2000|             1999|             2000|              2000|\n",
            "|   mean|1238.7503751875938|1.5225612806403186|           4.3095|32.058029014507255|0.5017008504252143|          140.249|           9.9165|           645.108|1251.3301603206412|          2124.213|          12.3065|5.768384192096048|           11.011|               1.5|\n",
            "| stddev|439.40575170705506|0.8160896062117982|4.341443747983898|18.142926999722935|0.2884793387457069|35.39965489638834|6.064314941347778|443.78081080643824| 432.4073472978542|1084.7320436099492|4.213245004356303|4.357047716662678|5.463955197766688|1.1183136021064597|\n",
            "|    min|               501|               0.5|                0|                 2|               0.1|               80|                0|                 0|               500|               256|                5|                0|                2|                 0|\n",
            "|    max|              1998|               3.0|               19|                64|               1.0|              200|               20|              1960|              1998|              3998|               19|               18|               20|                 3|\n",
            "+-------+------------------+------------------+-----------------+------------------+------------------+-----------------+-----------------+------------------+------------------+------------------+-----------------+-----------------+-----------------+------------------+\n",
            "\n"
          ],
          "name": "stdout"
        }
      ]
    },
    {
      "cell_type": "code",
      "metadata": {
        "id": "syljaLvfUk51",
        "colab_type": "code",
        "colab": {}
      },
      "source": [
        ""
      ],
      "execution_count": null,
      "outputs": []
    },
    {
      "cell_type": "markdown",
      "metadata": {
        "id": "UOWBsS4OW8tQ",
        "colab_type": "text"
      },
      "source": [
        "## Checking Missing Values "
      ]
    },
    {
      "cell_type": "code",
      "metadata": {
        "id": "ozWs1Kx-Uk9-",
        "colab_type": "code",
        "colab": {}
      },
      "source": [
        "#convert to pandas DataFrame\n",
        "df_pd=df.toPandas()"
      ],
      "execution_count": 29,
      "outputs": []
    },
    {
      "cell_type": "code",
      "metadata": {
        "id": "sGO6UfEuUknK",
        "colab_type": "code",
        "colab": {}
      },
      "source": [
        "#Check Missing value with proportion in Pandas DataFrame\n",
        "\n",
        "def missing_values_table(df_pd):\n",
        "    \"\"\"Input pandas dataframe and Return columns with missing value&percentage and stored as pandas dataframe\"\"\"\n",
        "    mis_val = df_pd.isnull().sum() #count total of null in each columns in dataframe\n",
        "    mis_val_percent = 100 * df_pd.isnull().sum() / len(df_pd) #count percentage of null in each columns\n",
        "    mis_val_table = pd.concat([mis_val, mis_val_percent], axis=1)  #join to left (as column) between mis_val and mis_val_percent and create it as dataframe\n",
        "    mis_val_table_ren_columns = mis_val_table.rename(columns = {0 : 'Missing Values', 1 : '% of Total Values'}) #rename columns in table, mis_val to Missing Values and mis_val_percent to % of Total Values\n",
        "    mis_val_table_ren_columns = mis_val_table_ren_columns[mis_val_table_ren_columns.iloc[:,1] != 0].sort_values('% of Total Values', ascending=False).round(1)         #sort column % of Total Values descending and round 1 after point(coma)\n",
        "    print (\"Your selected dataframe has \" + str(df_pd.shape[1]) + \" columns.\\n\"    #.shape[1] : just view total columns in dataframe  \n",
        "    \"There are \" + str(mis_val_table_ren_columns.shape[0]) + \n",
        "    \" columns that have missing values.\") #.shape[0] : just view total rows in dataframe\n",
        "    return mis_val_table_ren_columns\n",
        "    "
      ],
      "execution_count": 30,
      "outputs": []
    },
    {
      "cell_type": "code",
      "metadata": {
        "id": "OWT3nvDKUkkv",
        "colab_type": "code",
        "colab": {
          "base_uri": "https://localhost:8080/",
          "height": 366
        },
        "outputId": "7422c96d-a3a5-4d46-c07f-ba2e8d7b72b5"
      },
      "source": [
        "missing_values_table(df_pd)\n"
      ],
      "execution_count": 31,
      "outputs": [
        {
          "output_type": "stream",
          "text": [
            "Your selected dataframe has 21 columns.\n",
            "There are 9 columns that have missing values.\n"
          ],
          "name": "stdout"
        },
        {
          "output_type": "execute_result",
          "data": {
            "text/html": [
              "<div>\n",
              "<style scoped>\n",
              "    .dataframe tbody tr th:only-of-type {\n",
              "        vertical-align: middle;\n",
              "    }\n",
              "\n",
              "    .dataframe tbody tr th {\n",
              "        vertical-align: top;\n",
              "    }\n",
              "\n",
              "    .dataframe thead th {\n",
              "        text-align: right;\n",
              "    }\n",
              "</style>\n",
              "<table border=\"1\" class=\"dataframe\">\n",
              "  <thead>\n",
              "    <tr style=\"text-align: right;\">\n",
              "      <th></th>\n",
              "      <th>Missing Values</th>\n",
              "      <th>% of Total Values</th>\n",
              "    </tr>\n",
              "  </thead>\n",
              "  <tbody>\n",
              "    <tr>\n",
              "      <th>n_cores</th>\n",
              "      <td>256</td>\n",
              "      <td>12.8</td>\n",
              "    </tr>\n",
              "    <tr>\n",
              "      <th>px_width</th>\n",
              "      <td>4</td>\n",
              "      <td>0.2</td>\n",
              "    </tr>\n",
              "    <tr>\n",
              "      <th>wifi_connection</th>\n",
              "      <td>3</td>\n",
              "      <td>0.2</td>\n",
              "    </tr>\n",
              "    <tr>\n",
              "      <th>four_g</th>\n",
              "      <td>2</td>\n",
              "      <td>0.1</td>\n",
              "    </tr>\n",
              "    <tr>\n",
              "      <th>battery_power</th>\n",
              "      <td>1</td>\n",
              "      <td>0.0</td>\n",
              "    </tr>\n",
              "    <tr>\n",
              "      <th>clock_speed</th>\n",
              "      <td>1</td>\n",
              "      <td>0.0</td>\n",
              "    </tr>\n",
              "    <tr>\n",
              "      <th>internal_memory</th>\n",
              "      <td>1</td>\n",
              "      <td>0.0</td>\n",
              "    </tr>\n",
              "    <tr>\n",
              "      <th>m_dep</th>\n",
              "      <td>1</td>\n",
              "      <td>0.0</td>\n",
              "    </tr>\n",
              "    <tr>\n",
              "      <th>sc_w</th>\n",
              "      <td>1</td>\n",
              "      <td>0.0</td>\n",
              "    </tr>\n",
              "  </tbody>\n",
              "</table>\n",
              "</div>"
            ],
            "text/plain": [
              "                 Missing Values  % of Total Values\n",
              "n_cores                     256               12.8\n",
              "px_width                      4                0.2\n",
              "wifi_connection               3                0.2\n",
              "four_g                        2                0.1\n",
              "battery_power                 1                0.0\n",
              "clock_speed                   1                0.0\n",
              "internal_memory               1                0.0\n",
              "m_dep                         1                0.0\n",
              "sc_w                          1                0.0"
            ]
          },
          "metadata": {
            "tags": []
          },
          "execution_count": 31
        }
      ]
    },
    {
      "cell_type": "code",
      "metadata": {
        "id": "0B7HR70IUkjX",
        "colab_type": "code",
        "colab": {}
      },
      "source": [
        ""
      ],
      "execution_count": null,
      "outputs": []
    },
    {
      "cell_type": "code",
      "metadata": {
        "id": "HY-67qzEUkhb",
        "colab_type": "code",
        "colab": {}
      },
      "source": [
        "#Check Missing Value in Pyspark Dataframe\n",
        "\n",
        "def count_nulls(df_final):\n",
        "    \"\"\"Input pyspark dataframe and return list of columns with missing value and it's total value\"\"\"\n",
        "    null_counts = []          #make an empty list to hold our results\n",
        "    for col in df.dtypes:     #iterate through the column data types we saw above, e.g. ('C0', 'bigint')\n",
        "        cname = col[0]        #splits out the column name, e.g. 'C0'    \n",
        "        ctype = col[1]        #splits out the column type, e.g. 'bigint'\n",
        "        nulls = df.where( df[cname].isNull() ).count() #check count of null in column name\n",
        "        result = tuple([cname, nulls])  #new tuple, (column name, null count)\n",
        "        null_counts.append(result)      #put the new tuple in our result list\n",
        "    null_counts=[(x,y) for (x,y) in null_counts if y!=0]  #view just columns that have missing values\n",
        "    return null_counts\n"
      ],
      "execution_count": 32,
      "outputs": []
    },
    {
      "cell_type": "code",
      "metadata": {
        "id": "ajzvo5MSd03V",
        "colab_type": "code",
        "colab": {
          "base_uri": "https://localhost:8080/",
          "height": 173
        },
        "outputId": "d0854933-42c4-4585-826f-a31e1b7d1070"
      },
      "source": [
        "null_counts = count_nulls(df)\n",
        "null_counts\n"
      ],
      "execution_count": 33,
      "outputs": [
        {
          "output_type": "execute_result",
          "data": {
            "text/plain": [
              "[('battery_power', 1),\n",
              " ('clock_speed', 1),\n",
              " ('four_g', 2),\n",
              " ('internal_memory', 1),\n",
              " ('m_dep', 1),\n",
              " ('n_cores', 256),\n",
              " ('px_width', 4),\n",
              " ('sc_w', 1),\n",
              " ('wifi_connection', 3)]"
            ]
          },
          "metadata": {
            "tags": []
          },
          "execution_count": 33
        }
      ]
    },
    {
      "cell_type": "code",
      "metadata": {
        "id": "WuMDphOyd09b",
        "colab_type": "code",
        "colab": {
          "base_uri": "https://localhost:8080/",
          "height": 173
        },
        "outputId": "991d21a4-15af-403a-ffc2-52acf1f3b40a"
      },
      "source": [
        "#list of missing columns\n",
        "list_cols_miss=[x[0] for x in null_counts]\n",
        "list_cols_miss\n"
      ],
      "execution_count": 34,
      "outputs": [
        {
          "output_type": "execute_result",
          "data": {
            "text/plain": [
              "['battery_power',\n",
              " 'clock_speed',\n",
              " 'four_g',\n",
              " 'internal_memory',\n",
              " 'm_dep',\n",
              " 'n_cores',\n",
              " 'px_width',\n",
              " 'sc_w',\n",
              " 'wifi_connection']"
            ]
          },
          "metadata": {
            "tags": []
          },
          "execution_count": 34
        }
      ]
    },
    {
      "cell_type": "code",
      "metadata": {
        "id": "Z_b-eC4Sd07M",
        "colab_type": "code",
        "colab": {}
      },
      "source": [
        "#Create dataframe which just has list_cols_miss\n",
        "df_miss= df.select(*list_cols_miss)\n"
      ],
      "execution_count": 35,
      "outputs": []
    },
    {
      "cell_type": "code",
      "metadata": {
        "id": "ifgSybYQd00m",
        "colab_type": "code",
        "colab": {
          "base_uri": "https://localhost:8080/",
          "height": 173
        },
        "outputId": "eb685859-0e3c-4c85-aceb-34716936e9f6"
      },
      "source": [
        "df_miss.dtypes\n"
      ],
      "execution_count": 36,
      "outputs": [
        {
          "output_type": "execute_result",
          "data": {
            "text/plain": [
              "[('battery_power', 'int'),\n",
              " ('clock_speed', 'double'),\n",
              " ('four_g', 'string'),\n",
              " ('internal_memory', 'int'),\n",
              " ('m_dep', 'double'),\n",
              " ('n_cores', 'string'),\n",
              " ('px_width', 'int'),\n",
              " ('sc_w', 'int'),\n",
              " ('wifi_connection', 'string')]"
            ]
          },
          "metadata": {
            "tags": []
          },
          "execution_count": 36
        }
      ]
    },
    {
      "cell_type": "code",
      "metadata": {
        "id": "jHWofKPWhpRf",
        "colab_type": "code",
        "colab": {}
      },
      "source": [
        ""
      ],
      "execution_count": null,
      "outputs": []
    },
    {
      "cell_type": "markdown",
      "metadata": {
        "id": "qlgcypjghzEn",
        "colab_type": "text"
      },
      "source": [
        "## Categorical and Numerical Columns which have missing values"
      ]
    },
    {
      "cell_type": "code",
      "metadata": {
        "id": "3A9-yC0ZhpZb",
        "colab_type": "code",
        "colab": {
          "base_uri": "https://localhost:8080/",
          "height": 52
        },
        "outputId": "0804d58d-6dbc-416a-afaf-6a739d84431c"
      },
      "source": [
        "#Define categorical columns and numerical columns which have missing value.\n",
        "### for categorical columns\n",
        "catcolums_miss=[item[0] for item in df_miss.dtypes if item[1].startswith('string')]  #will select name of column with string data type\n",
        "print(\"catcolums_miss:\", catcolums_miss)\n",
        "\n",
        "### for numerical columns\n",
        "numcolumns_miss = [item[0] for item in df_miss.dtypes if item[1].startswith('int') | item[1].startswith('double')] #will select name of column with integer or double data type\n",
        "print(\"numcolumns_miss:\", numcolumns_miss)\n"
      ],
      "execution_count": 37,
      "outputs": [
        {
          "output_type": "stream",
          "text": [
            "catcolums_miss: ['four_g', 'n_cores', 'wifi_connection']\n",
            "numcolumns_miss: ['battery_power', 'clock_speed', 'internal_memory', 'm_dep', 'px_width', 'sc_w']\n"
          ],
          "name": "stdout"
        }
      ]
    },
    {
      "cell_type": "code",
      "metadata": {
        "id": "LBD6X9H7hpe6",
        "colab_type": "code",
        "colab": {}
      },
      "source": [
        ""
      ],
      "execution_count": null,
      "outputs": []
    },
    {
      "cell_type": "markdown",
      "metadata": {
        "id": "Ktxs6bt8i2CS",
        "colab_type": "text"
      },
      "source": [
        "## Without Missing Values Rows"
      ]
    },
    {
      "cell_type": "code",
      "metadata": {
        "id": "RPqmnSPIhpp2",
        "colab_type": "code",
        "colab": {
          "base_uri": "https://localhost:8080/",
          "height": 315
        },
        "outputId": "f2679365-b8ae-452f-e9b7-9ec8169b3870"
      },
      "source": [
        "#Drop missing value\n",
        "df_Nomiss=df.na.drop()\n",
        "df_Nomiss.show(10)\n"
      ],
      "execution_count": 38,
      "outputs": [
        {
          "output_type": "stream",
          "text": [
            "+-------------+----------+-----------+--------+---+------+---------------+-----+-------------+-------+---+---------+--------+----+----+----+---------+----------------+------------+---------------+-----------+\n",
            "|battery_power|blue_color|clock_speed|dual_sim| fc|four_g|internal_memory|m_dep|mobile_weight|n_cores| pc|px_height|px_width| ram|sc_h|sc_w|talk_time|three_generation|touch_screen|wifi_connection|price_range|\n",
            "+-------------+----------+-----------+--------+---+------+---------------+-----+-------------+-------+---+---------+--------+----+----+----+---------+----------------+------------+---------------+-----------+\n",
            "|          842|        no|        2.2|      no|  1|    no|              7|  0.6|          188|    two|  2|       20|     756|2549|   9|   7|       19|              no|          no|            yes|          1|\n",
            "|         1021|       yes|        0.5|     yes|  0|   yes|             53|  0.7|          136|  three|  6|      905|    1988|2631|  17|   3|        7|             yes|         yes|             no|          2|\n",
            "|          563|       yes|        0.5|     yes|  2|   yes|             41|  0.9|          145|   five|  6|     1263|    1716|2603|  11|   2|        9|             yes|         yes|             no|          2|\n",
            "|          615|       yes|        2.5|      no|  0|    no|             10|  0.8|          131|    six|  9|     1216|    1786|2769|  16|   8|       11|             yes|          no|             no|          2|\n",
            "|         1821|       yes|        1.2|      no| 13|   yes|             44|  0.6|          141|    two| 14|     1208|    1212|1411|   8|   2|       15|             yes|         yes|             no|          1|\n",
            "|         1859|        no|        0.5|     yes|  3|    no|             22|  0.7|          164|    one|  7|     1004|    1654|1067|  17|   1|       10|             yes|          no|             no|          1|\n",
            "|         1954|        no|        0.5|     yes|  0|    no|             24|  0.8|          187|   four|  0|      512|    1149| 700|  16|   3|        5|             yes|         yes|            yes|          0|\n",
            "|         1445|       yes|        0.5|      no|  0|    no|             53|  0.7|          174|  seven| 14|      386|     836|1099|  17|   1|       20|             yes|          no|             no|          0|\n",
            "|          509|       yes|        0.6|     yes|  2|   yes|              9|  0.1|           93|   five| 15|     1137|    1224| 513|  19|  10|       12|             yes|          no|             no|          0|\n",
            "|          769|       yes|        2.9|     yes|  0|    no|              9|  0.1|          182|   five|  1|      248|     874|3946|   5|   2|        7|              no|          no|             no|          3|\n",
            "+-------------+----------+-----------+--------+---+------+---------------+-----+-------------+-------+---+---------+--------+----+----+----+---------+----------------+------------+---------------+-----------+\n",
            "only showing top 10 rows\n",
            "\n"
          ],
          "name": "stdout"
        }
      ]
    },
    {
      "cell_type": "code",
      "metadata": {
        "id": "SAsbFNp8hpvm",
        "colab_type": "code",
        "colab": {
          "base_uri": "https://localhost:8080/",
          "height": 34
        },
        "outputId": "d49ec305-d4f2-43c8-cb69-3eb8b900f26b"
      },
      "source": [
        "#total number of rows without missing\n",
        "df_Nomiss.count()\n"
      ],
      "execution_count": 39,
      "outputs": [
        {
          "output_type": "execute_result",
          "data": {
            "text/plain": [
              "1732"
            ]
          },
          "metadata": {
            "tags": []
          },
          "execution_count": 39
        }
      ]
    },
    {
      "cell_type": "code",
      "metadata": {
        "id": "e-uWeFVjhptx",
        "colab_type": "code",
        "colab": {}
      },
      "source": [
        ""
      ],
      "execution_count": null,
      "outputs": []
    },
    {
      "cell_type": "markdown",
      "metadata": {
        "id": "OEFkRKjXkzK9",
        "colab_type": "text"
      },
      "source": [
        "## Filling missing values"
      ]
    },
    {
      "cell_type": "code",
      "metadata": {
        "id": "AzydFfPZhpm-",
        "colab_type": "code",
        "colab": {
          "base_uri": "https://localhost:8080/",
          "height": 69
        },
        "outputId": "878997e7-b5c5-448b-b526-5c1e982e7f6f"
      },
      "source": [
        "#fill missing value in categorical variable with most frequent\n",
        "for x in catcolums_miss:\n",
        "    mode=df_Nomiss.groupBy(x).count().sort(col(\"count\").desc()).collect()[0][0] #group by based on categories and count each categories and sort descending then take the first value in column\n",
        "    print(x, mode) #print name of columns and it's most categories \n",
        "    df = df.na.fill({x:mode}) #fill missing value in each columns with most frequent\n",
        "    "
      ],
      "execution_count": 40,
      "outputs": [
        {
          "output_type": "stream",
          "text": [
            "four_g yes\n",
            "n_cores four\n",
            "wifi_connection yes\n"
          ],
          "name": "stdout"
        }
      ]
    },
    {
      "cell_type": "code",
      "metadata": {
        "id": "v-y59w8Ehpk6",
        "colab_type": "code",
        "colab": {
          "base_uri": "https://localhost:8080/",
          "height": 121
        },
        "outputId": "dd750d3b-d77a-4488-825e-7ddeb6f01ec3"
      },
      "source": [
        "#fill missing value in numerical variable with average\n",
        "for i in numcolumns_miss:\n",
        "    meanvalue = df.select(round(mean(i))).collect()[0][0] #calculate average in each numerical column\n",
        "    print(i, meanvalue) #print name of columns and it's average value\n",
        "    df=df.na.fill({i:meanvalue}) #fill missing value in each columns with it's average value\n",
        "    "
      ],
      "execution_count": 41,
      "outputs": [
        {
          "output_type": "stream",
          "text": [
            "battery_power 1239.0\n",
            "clock_speed 2.0\n",
            "internal_memory 32.0\n",
            "m_dep 1.0\n",
            "px_width 1251.0\n",
            "sc_w 6.0\n"
          ],
          "name": "stdout"
        }
      ]
    },
    {
      "cell_type": "code",
      "metadata": {
        "id": "YwmdkWK_hpjX",
        "colab_type": "code",
        "colab": {}
      },
      "source": [
        ""
      ],
      "execution_count": null,
      "outputs": []
    },
    {
      "cell_type": "markdown",
      "metadata": {
        "id": "G9CFmaXRtItm",
        "colab_type": "text"
      },
      "source": [
        "## Again Checking Missing data"
      ]
    },
    {
      "cell_type": "code",
      "metadata": {
        "id": "xZtOp5dBhpc2",
        "colab_type": "code",
        "colab": {
          "base_uri": "https://localhost:8080/",
          "height": 101
        },
        "outputId": "9dfab449-03a8-4522-d01b-42624c807abe"
      },
      "source": [
        "df.select([count(when(isnull(c), c)).alias(c) for c in df.columns]).toPandas()\n"
      ],
      "execution_count": 42,
      "outputs": [
        {
          "output_type": "execute_result",
          "data": {
            "text/html": [
              "<div>\n",
              "<style scoped>\n",
              "    .dataframe tbody tr th:only-of-type {\n",
              "        vertical-align: middle;\n",
              "    }\n",
              "\n",
              "    .dataframe tbody tr th {\n",
              "        vertical-align: top;\n",
              "    }\n",
              "\n",
              "    .dataframe thead th {\n",
              "        text-align: right;\n",
              "    }\n",
              "</style>\n",
              "<table border=\"1\" class=\"dataframe\">\n",
              "  <thead>\n",
              "    <tr style=\"text-align: right;\">\n",
              "      <th></th>\n",
              "      <th>battery_power</th>\n",
              "      <th>blue_color</th>\n",
              "      <th>clock_speed</th>\n",
              "      <th>dual_sim</th>\n",
              "      <th>fc</th>\n",
              "      <th>four_g</th>\n",
              "      <th>internal_memory</th>\n",
              "      <th>m_dep</th>\n",
              "      <th>mobile_weight</th>\n",
              "      <th>n_cores</th>\n",
              "      <th>pc</th>\n",
              "      <th>px_height</th>\n",
              "      <th>px_width</th>\n",
              "      <th>ram</th>\n",
              "      <th>sc_h</th>\n",
              "      <th>sc_w</th>\n",
              "      <th>talk_time</th>\n",
              "      <th>three_generation</th>\n",
              "      <th>touch_screen</th>\n",
              "      <th>wifi_connection</th>\n",
              "      <th>price_range</th>\n",
              "    </tr>\n",
              "  </thead>\n",
              "  <tbody>\n",
              "    <tr>\n",
              "      <th>0</th>\n",
              "      <td>0</td>\n",
              "      <td>0</td>\n",
              "      <td>0</td>\n",
              "      <td>0</td>\n",
              "      <td>0</td>\n",
              "      <td>0</td>\n",
              "      <td>0</td>\n",
              "      <td>0</td>\n",
              "      <td>0</td>\n",
              "      <td>0</td>\n",
              "      <td>0</td>\n",
              "      <td>0</td>\n",
              "      <td>0</td>\n",
              "      <td>0</td>\n",
              "      <td>0</td>\n",
              "      <td>0</td>\n",
              "      <td>0</td>\n",
              "      <td>0</td>\n",
              "      <td>0</td>\n",
              "      <td>0</td>\n",
              "      <td>0</td>\n",
              "    </tr>\n",
              "  </tbody>\n",
              "</table>\n",
              "</div>"
            ],
            "text/plain": [
              "   battery_power  blue_color  ...  wifi_connection  price_range\n",
              "0              0           0  ...                0            0\n",
              "\n",
              "[1 rows x 21 columns]"
            ]
          },
          "metadata": {
            "tags": []
          },
          "execution_count": 42
        }
      ]
    },
    {
      "cell_type": "code",
      "metadata": {
        "id": "0yxDXgSQhpW8",
        "colab_type": "code",
        "colab": {}
      },
      "source": [
        ""
      ],
      "execution_count": null,
      "outputs": []
    },
    {
      "cell_type": "markdown",
      "metadata": {
        "id": "ajOieXK-uUAg",
        "colab_type": "text"
      },
      "source": [
        "## Exploratory Data Analysis"
      ]
    },
    {
      "cell_type": "code",
      "metadata": {
        "id": "stPiuArfhpVo",
        "colab_type": "code",
        "colab": {}
      },
      "source": [
        "# convert spark dataframe to pandas for visualization\n",
        "df_pd2=df.toPandas()\n"
      ],
      "execution_count": 43,
      "outputs": []
    },
    {
      "cell_type": "code",
      "metadata": {
        "id": "EGgUjRT1hpPK",
        "colab_type": "code",
        "colab": {
          "base_uri": "https://localhost:8080/",
          "height": 310
        },
        "outputId": "da18c9c4-4259-42f3-a40f-07ebe367ea17"
      },
      "source": [
        "#Barchart for categorical variable\n",
        "plt.figure(figsize=(20,10))\n",
        "plt.subplot(221)\n",
        "sns.countplot(x='blue_color', data=df_pd2, order=df_pd['blue_color'].value_counts().index)\n",
        "plt.show()\n"
      ],
      "execution_count": 44,
      "outputs": [
        {
          "output_type": "display_data",
          "data": {
            "image/png": "[encoded data removed]",
            "text/plain": [
              "<Figure size 1440x720 with 1 Axes>"
            ]
          },
          "metadata": {
            "tags": [],
            "needs_background": "light"
          }
        }
      ]
    },
    {
      "cell_type": "code",
      "metadata": {
        "id": "aBvn4oN_hpMC",
        "colab_type": "code",
        "colab": {
          "base_uri": "https://localhost:8080/",
          "height": 309
        },
        "outputId": "8540f09a-eee7-43f9-a9c9-5ab6a84cffc9"
      },
      "source": [
        "#Barchart for categorical variable\n",
        "plt.figure(figsize=(20,10))\n",
        "plt.subplot(222)\n",
        "sns.countplot(x='n_cores', data=df_pd2, order=df_pd['n_cores'].value_counts().index)\n",
        "plt.show()\n"
      ],
      "execution_count": 45,
      "outputs": [
        {
          "output_type": "display_data",
          "data": {
            "image/png": "[encoded data removed]",
            "text/plain": [
              "<Figure size 1440x720 with 1 Axes>"
            ]
          },
          "metadata": {
            "tags": [],
            "needs_background": "light"
          }
        }
      ]
    },
    {
      "cell_type": "code",
      "metadata": {
        "id": "zaMEfPzzv15z",
        "colab_type": "code",
        "colab": {
          "base_uri": "https://localhost:8080/",
          "height": 310
        },
        "outputId": "03fef95f-0e39-4403-9f89-21cd0977e679"
      },
      "source": [
        "#Barchart for categorical variable\n",
        "plt.figure(figsize=(20,10))\n",
        "plt.subplot(223)\n",
        "sns.countplot(x='price_range', data=df_pd2, order=df_pd['price_range'].value_counts().index)\n",
        "plt.show()\n"
      ],
      "execution_count": 46,
      "outputs": [
        {
          "output_type": "display_data",
          "data": {
            "image/png": "[encoded data removed]",
            "text/plain": [
              "<Figure size 1440x720 with 1 Axes>"
            ]
          },
          "metadata": {
            "tags": [],
            "needs_background": "light"
          }
        }
      ]
    },
    {
      "cell_type": "code",
      "metadata": {
        "id": "7DDDRLaiv1_f",
        "colab_type": "code",
        "colab": {
          "base_uri": "https://localhost:8080/",
          "height": 280
        },
        "outputId": "cb334e95-6db6-4c7a-bc7b-1092cdcd24eb"
      },
      "source": [
        "sns.distplot(df_pd2['mobile_weight'])\n",
        "plt.show()"
      ],
      "execution_count": 47,
      "outputs": [
        {
          "output_type": "display_data",
          "data": {
            "image/png": "[encoded data removed]",
            "text/plain": [
              "<Figure size 432x288 with 1 Axes>"
            ]
          },
          "metadata": {
            "tags": [],
            "needs_background": "light"
          }
        }
      ]
    },
    {
      "cell_type": "code",
      "metadata": {
        "id": "U9NDrzMdv19Y",
        "colab_type": "code",
        "colab": {
          "base_uri": "https://localhost:8080/",
          "height": 280
        },
        "outputId": "df326042-fd6c-40f9-dde5-2732c4447383"
      },
      "source": [
        "sns.distplot(df_pd2['px_height'])\n",
        "plt.show()\n"
      ],
      "execution_count": 48,
      "outputs": [
        {
          "output_type": "display_data",
          "data": {
            "image/png": "[encoded data removed]",
            "text/plain": [
              "<Figure size 432x288 with 1 Axes>"
            ]
          },
          "metadata": {
            "tags": [],
            "needs_background": "light"
          }
        }
      ]
    },
    {
      "cell_type": "code",
      "metadata": {
        "id": "nQti8xURwXzv",
        "colab_type": "code",
        "colab": {
          "base_uri": "https://localhost:8080/",
          "height": 280
        },
        "outputId": "b0e288e9-483e-4a98-b487-61d7ab95d933"
      },
      "source": [
        "sns.distplot(df_pd2['px_width'])\n",
        "plt.show()"
      ],
      "execution_count": 49,
      "outputs": [
        {
          "output_type": "display_data",
          "data": {
            "image/png": "[encoded data removed]",
            "text/plain": [
              "<Figure size 432x288 with 1 Axes>"
            ]
          },
          "metadata": {
            "tags": [],
            "needs_background": "light"
          }
        }
      ]
    },
    {
      "cell_type": "code",
      "metadata": {
        "id": "4hHhrDEIwX7i",
        "colab_type": "code",
        "colab": {
          "base_uri": "https://localhost:8080/",
          "height": 279
        },
        "outputId": "20709edb-6806-4f7b-9082-1c89a0ca60da"
      },
      "source": [
        "sns.distplot(df_pd2['ram'])\n",
        "plt.show()"
      ],
      "execution_count": 50,
      "outputs": [
        {
          "output_type": "display_data",
          "data": {
            "image/png": "[encoded data removed]",
            "text/plain": [
              "<Figure size 432x288 with 1 Axes>"
            ]
          },
          "metadata": {
            "tags": [],
            "needs_background": "light"
          }
        }
      ]
    },
    {
      "cell_type": "code",
      "metadata": {
        "id": "vAOX16YMwX5w",
        "colab_type": "code",
        "colab": {
          "base_uri": "https://localhost:8080/",
          "height": 280
        },
        "outputId": "2df278c7-6c50-4626-8eca-a6e38b076d9e"
      },
      "source": [
        "sns.distplot(df_pd2['talk_time'])\n",
        "plt.show()"
      ],
      "execution_count": 51,
      "outputs": [
        {
          "output_type": "display_data",
          "data": {
            "image/png": "[encoded data removed]",
            "text/plain": [
              "<Figure size 432x288 with 1 Axes>"
            ]
          },
          "metadata": {
            "tags": [],
            "needs_background": "light"
          }
        }
      ]
    },
    {
      "cell_type": "code",
      "metadata": {
        "id": "-blR0RqlwX37",
        "colab_type": "code",
        "colab": {
          "base_uri": "https://localhost:8080/",
          "height": 280
        },
        "outputId": "d48bc15b-1e79-49ad-8345-a735cb0fa641"
      },
      "source": [
        "sns.distplot(df_pd2['price_range'])\n",
        "plt.show()"
      ],
      "execution_count": 52,
      "outputs": [
        {
          "output_type": "display_data",
          "data": {
            "image/png": "[encoded data removed]",
            "text/plain": [
              "<Figure size 432x288 with 1 Axes>"
            ]
          },
          "metadata": {
            "tags": [],
            "needs_background": "light"
          }
        }
      ]
    },
    {
      "cell_type": "code",
      "metadata": {
        "id": "SriWf3zL1oGS",
        "colab_type": "code",
        "colab": {}
      },
      "source": [
        ""
      ],
      "execution_count": null,
      "outputs": []
    },
    {
      "cell_type": "markdown",
      "metadata": {
        "id": "jlFh6nSC3Y5s",
        "colab_type": "text"
      },
      "source": [
        "## Checking Outlier"
      ]
    },
    {
      "cell_type": "code",
      "metadata": {
        "id": "hr0jMwIt1oP1",
        "colab_type": "code",
        "colab": {
          "base_uri": "https://localhost:8080/",
          "height": 194
        },
        "outputId": "e6e08eb9-b7dc-45cc-dfff-1df0d36498f0"
      },
      "source": [
        "#Check outlier in 'battery_power'\n",
        "plt.figure(figsize=(15,10))\n",
        "plt.subplot(321)\n",
        "sns.boxplot(y=\"battery_power\", data=df_pd2)\n",
        "plt.show()\n"
      ],
      "execution_count": 53,
      "outputs": [
        {
          "output_type": "display_data",
          "data": {
            "image/png": "[encoded data removed]",
            "text/plain": [
              "<Figure size 1080x720 with 1 Axes>"
            ]
          },
          "metadata": {
            "tags": [],
            "needs_background": "light"
          }
        }
      ]
    },
    {
      "cell_type": "code",
      "metadata": {
        "id": "x0Zuvwop1oW7",
        "colab_type": "code",
        "colab": {
          "base_uri": "https://localhost:8080/",
          "height": 194
        },
        "outputId": "a19e1a6b-1c11-4815-d0bc-02bdca87730f"
      },
      "source": [
        "#Check outlier in 'mobile_weight'\n",
        "plt.figure(figsize=(15,10))\n",
        "plt.subplot(322)\n",
        "sns.boxplot(y=\"mobile_weight\", data=df_pd2)\n",
        "plt.show()"
      ],
      "execution_count": 54,
      "outputs": [
        {
          "output_type": "display_data",
          "data": {
            "image/png": "[encoded data removed]",
            "text/plain": [
              "<Figure size 1080x720 with 1 Axes>"
            ]
          },
          "metadata": {
            "tags": [],
            "needs_background": "light"
          }
        }
      ]
    },
    {
      "cell_type": "code",
      "metadata": {
        "id": "sPo_cfWt1oVb",
        "colab_type": "code",
        "colab": {
          "base_uri": "https://localhost:8080/",
          "height": 194
        },
        "outputId": "3ef84ded-5129-4033-ab51-6636cbd30f4e"
      },
      "source": [
        "#Check outlier in 'px_height'\n",
        "plt.figure(figsize=(15,10))\n",
        "plt.subplot(323)\n",
        "sns.boxplot(y=\"px_height\", data=df_pd2)\n",
        "plt.show()"
      ],
      "execution_count": 55,
      "outputs": [
        {
          "output_type": "display_data",
          "data": {
            "image/png": "[encoded data removed]",
            "text/plain": [
              "<Figure size 1080x720 with 1 Axes>"
            ]
          },
          "metadata": {
            "tags": [],
            "needs_background": "light"
          }
        }
      ]
    },
    {
      "cell_type": "code",
      "metadata": {
        "id": "yzesurav1oTj",
        "colab_type": "code",
        "colab": {
          "base_uri": "https://localhost:8080/",
          "height": 194
        },
        "outputId": "ea275d3f-b0f7-486c-fba6-e7e8fb9b2f50"
      },
      "source": [
        "#Check outlier in 'px_width'\n",
        "plt.figure(figsize=(15,10))\n",
        "plt.subplot(324)\n",
        "sns.boxplot(y=\"px_width\", data=df_pd2)\n",
        "plt.show()"
      ],
      "execution_count": 56,
      "outputs": [
        {
          "output_type": "display_data",
          "data": {
            "image/png": "[encoded data removed]",
            "text/plain": [
              "<Figure size 1080x720 with 1 Axes>"
            ]
          },
          "metadata": {
            "tags": [],
            "needs_background": "light"
          }
        }
      ]
    },
    {
      "cell_type": "code",
      "metadata": {
        "id": "XN-kgcWm1oOF",
        "colab_type": "code",
        "colab": {
          "base_uri": "https://localhost:8080/",
          "height": 194
        },
        "outputId": "f913e171-2797-47f2-c49b-95d06ac81499"
      },
      "source": [
        "#Check outlier in 'ram'\n",
        "plt.figure(figsize=(15,10))\n",
        "plt.subplot(325)\n",
        "sns.boxplot(y=\"ram\", data=df_pd2)\n",
        "plt.show()"
      ],
      "execution_count": 57,
      "outputs": [
        {
          "output_type": "display_data",
          "data": {
            "image/png": "[encoded data removed]",
            "text/plain": [
              "<Figure size 1080x720 with 1 Axes>"
            ]
          },
          "metadata": {
            "tags": [],
            "needs_background": "light"
          }
        }
      ]
    },
    {
      "cell_type": "code",
      "metadata": {
        "id": "xNEii1cM1oMh",
        "colab_type": "code",
        "colab": {}
      },
      "source": [
        ""
      ],
      "execution_count": null,
      "outputs": []
    },
    {
      "cell_type": "markdown",
      "metadata": {
        "id": "SRzScRnfefPC",
        "colab_type": "text"
      },
      "source": [
        "## Handling Outlier"
      ]
    },
    {
      "cell_type": "code",
      "metadata": {
        "id": "c4LzWSAR1oKx",
        "colab_type": "code",
        "colab": {}
      },
      "source": [
        "#create quantile dataframe\n",
        "def quantile(e):\n",
        "    \"\"\"Input is dataframe and return new dataframe with value of quantile from numerical columns\"\"\"\n",
        "    percentiles = [0.25, 0.5, 0.75]\n",
        "    quant=spark.createDataFrame(zip(percentiles, *e.approxQuantile(num_cols, percentiles, 0.0)), ['percentile']+num_cols)\n",
        "\n",
        "    return quant\n",
        "    "
      ],
      "execution_count": 58,
      "outputs": []
    },
    {
      "cell_type": "code",
      "metadata": {
        "id": "ZhkAN5Q31oDC",
        "colab_type": "code",
        "colab": {
          "base_uri": "https://localhost:8080/",
          "height": 176
        },
        "outputId": "67220340-f72d-4c9a-c534-29aa1dfd085a"
      },
      "source": [
        "quantile=quantile(df)\n",
        "quantile.show()"
      ],
      "execution_count": 59,
      "outputs": [
        {
          "output_type": "stream",
          "text": [
            "+----------+-------------+-----------+---+---------------+-----+-------------+----+---------+--------+------+----+----+---------+-----------+\n",
            "|percentile|battery_power|clock_speed| fc|internal_memory|m_dep|mobile_weight|  pc|px_height|px_width|   ram|sc_h|sc_w|talk_time|price_range|\n",
            "+----------+-------------+-----------+---+---------------+-----+-------------+----+---------+--------+------+----+----+---------+-----------+\n",
            "|      0.25|        852.0|        0.7|1.0|           16.0|  0.2|        109.0| 5.0|    282.0|   874.0|1206.0| 9.0| 2.0|      6.0|        0.0|\n",
            "|       0.5|       1227.0|        1.5|3.0|           32.0|  0.5|        141.0|10.0|    564.0|  1247.0|2146.0|12.0| 5.0|     11.0|        1.0|\n",
            "|      0.75|       1615.0|        2.2|7.0|           48.0|  0.8|        170.0|15.0|    947.0|  1632.0|3064.0|16.0| 9.0|     16.0|        2.0|\n",
            "+----------+-------------+-----------+---+---------------+-----+-------------+----+---------+--------+------+----+----+---------+-----------+\n",
            "\n"
          ],
          "name": "stdout"
        }
      ]
    },
    {
      "cell_type": "code",
      "metadata": {
        "id": "ZDUKGHInfZ5O",
        "colab_type": "code",
        "colab": {}
      },
      "source": [
        "def upper_value(b,c):\n",
        "    \"\"\"Input is quantile dataframe and name of numerical column and Retrun upper value from the column\"\"\"\n",
        "    q1 = b.select(c).collect()[0][0] #select value of q1 from the column\n",
        "    q2 = b.select(c).collect()[1][0] #select value of q2 from the column\n",
        "    q3 = b.select(c).collect()[2][0] #select value of q3 from the column\n",
        "    IQR=q3-q1  #calculate the value of IQR\n",
        "    upper= q3 + (IQR*1.5)   #calculate the value of upper side\n",
        "    return upper\n",
        "\n",
        "def lower_value(b,c):\n",
        "    \"\"\"Input is quantile dataframe and name of numerical column and Retrun lower value from the column\"\"\"\n",
        "    q1 = b.select(c).collect()[0][0] #select value of q1 from the column\n",
        "    q2 = b.select(c).collect()[1][0] #select value of q2 from the column\n",
        "    q3 = b.select(c).collect()[2][0] #select value of q3 from the column\n",
        "    IQR=q3-q1                   #calculate the value of IQR\n",
        "    lower= q1 - (IQR*1.5)       #calculate the value of lower side\n",
        "    return lower\n",
        "    \n"
      ],
      "execution_count": 60,
      "outputs": []
    },
    {
      "cell_type": "code",
      "metadata": {
        "id": "dlxwQyVPfZ-O",
        "colab_type": "code",
        "colab": {}
      },
      "source": [
        "#Replacing outlier¶\n",
        "def replce_outlier_up2(d,col, value):\n",
        "    \"\"\"Input is name of numerical column and it's upper side value\"\"\"\n",
        "    d=d.withColumn(col, F.when(d[col] > value , value).otherwise(d[col]))\n",
        "    return d\n",
        "\n",
        "def replce_outlier_low2(d,col, value):\n",
        "    \"\"\"Input is name of numerical column and it's lower side value\"\"\"\n",
        "    d=d.withColumn(col, F.when(d[col] < value , value).otherwise(d[col]))\n",
        "    return d\n",
        "\n",
        "#call function to calculate lower side and replace value under lower side with value lower side\n",
        "for i in num_cols:\n",
        "    lower=lower_value(quantile,i)\n",
        "    df=replce_outlier_low2(df, i, lower)\n",
        "\n",
        "#call function to calculate upper side and replace value above upper side with value upper side\n",
        "for x in num_cols:\n",
        "    upper=upper_value(quantile,x)\n",
        "    df=replce_outlier_up2(df, x, upper)\n",
        "\n",
        "    "
      ],
      "execution_count": 61,
      "outputs": []
    },
    {
      "cell_type": "code",
      "metadata": {
        "id": "I3foneZpfaDc",
        "colab_type": "code",
        "colab": {
          "base_uri": "https://localhost:8080/",
          "height": 34
        },
        "outputId": "707d00ff-976f-48dd-a417-b89635b85c35"
      },
      "source": [
        "type(df)"
      ],
      "execution_count": 62,
      "outputs": [
        {
          "output_type": "execute_result",
          "data": {
            "text/plain": [
              "pyspark.sql.dataframe.DataFrame"
            ]
          },
          "metadata": {
            "tags": []
          },
          "execution_count": 62
        }
      ]
    },
    {
      "cell_type": "code",
      "metadata": {
        "id": "dypXntMkfaBy",
        "colab_type": "code",
        "colab": {}
      },
      "source": [
        ""
      ],
      "execution_count": null,
      "outputs": []
    },
    {
      "cell_type": "markdown",
      "metadata": {
        "id": "iCR6i0xjiwmi",
        "colab_type": "text"
      },
      "source": [
        "Check distribution after replacing outlier"
      ]
    },
    {
      "cell_type": "code",
      "metadata": {
        "id": "C6mj-im7iywN",
        "colab_type": "code",
        "colab": {
          "base_uri": "https://localhost:8080/",
          "height": 211
        },
        "outputId": "82e15ad2-bb90-47b9-ba82-10fe1cf2a7d4"
      },
      "source": [
        "df.select(num_cols).describe().show()"
      ],
      "execution_count": 63,
      "outputs": [
        {
          "output_type": "stream",
          "text": [
            "+-------+------------------+------------------+-----------------+------------------+------------------+-----------------+-----------------+-----------------+------------------+------------------+-----------------+------------------+-----------------+------------------+\n",
            "|summary|     battery_power|       clock_speed|               fc|   internal_memory|             m_dep|    mobile_weight|               pc|        px_height|          px_width|               ram|             sc_h|              sc_w|        talk_time|       price_range|\n",
            "+-------+------------------+------------------+-----------------+------------------+------------------+-----------------+-----------------+-----------------+------------------+------------------+-----------------+------------------+-----------------+------------------+\n",
            "|  count|              2000|              2000|             2000|              2000|              2000|             2000|             2000|             2000|              2000|              2000|             2000|              2000|             2000|              2000|\n",
            "|   mean|         1238.7505|1.5227999999999984|            4.294|            32.058|0.5019500000000017|          140.249|           9.9165|          645.098|         1251.3295|          2124.213|          12.3065|            5.7685|           11.011|               1.5|\n",
            "| stddev|439.29583160278435|0.8159552999556796|4.296020472012215|18.138388477708904| 0.288622329220146|35.39965489638834|6.064314941347778|443.7513682056563|431.97450725385227|1084.7320436099492|4.213245004356303|4.3559608523807665|5.463955197766688|1.1183136021064597|\n",
            "|    min|             501.0|               0.5|              0.0|               2.0|               0.1|             80.0|              0.0|              0.0|             500.0|             256.0|              5.0|               0.0|              2.0|               0.0|\n",
            "|    max|            1998.0|               3.0|             16.0|              64.0|               1.0|            200.0|             20.0|           1944.5|            1998.0|            3998.0|             19.0|              18.0|             20.0|               3.0|\n",
            "+-------+------------------+------------------+-----------------+------------------+------------------+-----------------+-----------------+-----------------+------------------+------------------+-----------------+------------------+-----------------+------------------+\n",
            "\n"
          ],
          "name": "stdout"
        }
      ]
    },
    {
      "cell_type": "code",
      "metadata": {
        "id": "Ke7yzYveiy15",
        "colab_type": "code",
        "colab": {}
      },
      "source": [
        ""
      ],
      "execution_count": null,
      "outputs": []
    },
    {
      "cell_type": "markdown",
      "metadata": {
        "id": "zmnYHUNpjsfp",
        "colab_type": "text"
      },
      "source": [
        "Again Checking Outlier"
      ]
    },
    {
      "cell_type": "code",
      "metadata": {
        "id": "J4VmnuViizB_",
        "colab_type": "code",
        "colab": {}
      },
      "source": [
        "df_pd3=df.toPandas()\n"
      ],
      "execution_count": 64,
      "outputs": []
    },
    {
      "cell_type": "code",
      "metadata": {
        "id": "1ewH1_4YizLB",
        "colab_type": "code",
        "colab": {
          "base_uri": "https://localhost:8080/",
          "height": 194
        },
        "outputId": "8d56dc05-d6b1-4e62-dcfe-a98731bdfdc3"
      },
      "source": [
        "#Check outlier in 'px_height'\n",
        "plt.figure(figsize=(15,10))\n",
        "plt.subplot(326)\n",
        "sns.boxplot(y=\"px_height\", data=df_pd2)\n",
        "plt.show()"
      ],
      "execution_count": 65,
      "outputs": [
        {
          "output_type": "display_data",
          "data": {
            "image/png": "[encoded data removed]",
            "text/plain": [
              "<Figure size 1080x720 with 1 Axes>"
            ]
          },
          "metadata": {
            "tags": [],
            "needs_background": "light"
          }
        }
      ]
    },
    {
      "cell_type": "code",
      "metadata": {
        "id": "IlzDLsQYizQx",
        "colab_type": "code",
        "colab": {}
      },
      "source": [
        ""
      ],
      "execution_count": null,
      "outputs": []
    },
    {
      "cell_type": "markdown",
      "metadata": {
        "id": "3Hns6ydAkGfF",
        "colab_type": "text"
      },
      "source": [
        "## Feature Engineering"
      ]
    },
    {
      "cell_type": "code",
      "metadata": {
        "id": "lj-0L2TNizXq",
        "colab_type": "code",
        "colab": {
          "base_uri": "https://localhost:8080/",
          "height": 416
        },
        "outputId": "ae03e80e-27c1-44cd-a810-18bd0d343ec1"
      },
      "source": [
        "df.printSchema()"
      ],
      "execution_count": 66,
      "outputs": [
        {
          "output_type": "stream",
          "text": [
            "root\n",
            " |-- battery_power: double (nullable = true)\n",
            " |-- blue_color: string (nullable = true)\n",
            " |-- clock_speed: double (nullable = false)\n",
            " |-- dual_sim: string (nullable = true)\n",
            " |-- fc: double (nullable = true)\n",
            " |-- four_g: string (nullable = false)\n",
            " |-- internal_memory: double (nullable = true)\n",
            " |-- m_dep: double (nullable = false)\n",
            " |-- mobile_weight: double (nullable = true)\n",
            " |-- n_cores: string (nullable = false)\n",
            " |-- pc: double (nullable = true)\n",
            " |-- px_height: double (nullable = true)\n",
            " |-- px_width: double (nullable = true)\n",
            " |-- ram: double (nullable = true)\n",
            " |-- sc_h: double (nullable = true)\n",
            " |-- sc_w: double (nullable = true)\n",
            " |-- talk_time: double (nullable = true)\n",
            " |-- three_generation: string (nullable = true)\n",
            " |-- touch_screen: string (nullable = true)\n",
            " |-- wifi_connection: string (nullable = false)\n",
            " |-- price_range: double (nullable = true)\n",
            "\n"
          ],
          "name": "stdout"
        }
      ]
    },
    {
      "cell_type": "code",
      "metadata": {
        "id": "6vEoy50dizeB",
        "colab_type": "code",
        "colab": {}
      },
      "source": [
        ""
      ],
      "execution_count": null,
      "outputs": []
    },
    {
      "cell_type": "code",
      "metadata": {
        "id": "X3W6JRPsizcZ",
        "colab_type": "code",
        "colab": {
          "base_uri": "https://localhost:8080/",
          "height": 139
        },
        "outputId": "93839eff-e5b5-4a9a-fe42-9adf5cd7cada"
      },
      "source": [
        "# define columns name for string indexer and one hot encoder processing\n",
        "cat_columns_string_vec = []\n",
        "for c in cat_cols:\n",
        "    cat_columns_string= c+\"_vec\"\n",
        "    cat_columns_string_vec.append(cat_columns_string)\n",
        "\n",
        "cat_columns_string_vec\n"
      ],
      "execution_count": 67,
      "outputs": [
        {
          "output_type": "execute_result",
          "data": {
            "text/plain": [
              "['blue_color_vec',\n",
              " 'dual_sim_vec',\n",
              " 'four_g_vec',\n",
              " 'n_cores_vec',\n",
              " 'three_generation_vec',\n",
              " 'touch_screen_vec',\n",
              " 'wifi_connection_vec']"
            ]
          },
          "metadata": {
            "tags": []
          },
          "execution_count": 67
        }
      ]
    },
    {
      "cell_type": "code",
      "metadata": {
        "id": "6Nt3Fk_5izVp",
        "colab_type": "code",
        "colab": {}
      },
      "source": [
        "#create index for categorical variables with stringIndexer   \n",
        "stringIndexer = [StringIndexer(inputCol=x, outputCol=x+\"_Index\")\n",
        "                  for x in cat_cols]\n",
        "#use oneHotEncoder to convert categorical variable to binary\n",
        "encoder = [OneHotEncoder(inputCol=x+\"_Index\", outputCol=y)\n",
        "           for x,y in zip(cat_cols, cat_columns_string_vec)]\n",
        "tmp = [[i,j] for i,j in zip(stringIndexer, encoder)]\n",
        "tmp = [i for sublist in tmp for i in sublist]\n"
      ],
      "execution_count": 68,
      "outputs": []
    },
    {
      "cell_type": "code",
      "metadata": {
        "id": "i6_PGfXzizUg",
        "colab_type": "code",
        "colab": {
          "base_uri": "https://localhost:8080/",
          "height": 382
        },
        "outputId": "b19a0608-3644-44ce-e292-1f4ef61470b0"
      },
      "source": [
        "#define columns for vector assembler processing\n",
        "cols_assember=num_cols + cat_columns_string_vec\n",
        "cols_assember"
      ],
      "execution_count": 69,
      "outputs": [
        {
          "output_type": "execute_result",
          "data": {
            "text/plain": [
              "['battery_power',\n",
              " 'clock_speed',\n",
              " 'fc',\n",
              " 'internal_memory',\n",
              " 'm_dep',\n",
              " 'mobile_weight',\n",
              " 'pc',\n",
              " 'px_height',\n",
              " 'px_width',\n",
              " 'ram',\n",
              " 'sc_h',\n",
              " 'sc_w',\n",
              " 'talk_time',\n",
              " 'price_range',\n",
              " 'blue_color_vec',\n",
              " 'dual_sim_vec',\n",
              " 'four_g_vec',\n",
              " 'n_cores_vec',\n",
              " 'three_generation_vec',\n",
              " 'touch_screen_vec',\n",
              " 'wifi_connection_vec']"
            ]
          },
          "metadata": {
            "tags": []
          },
          "execution_count": 69
        }
      ]
    },
    {
      "cell_type": "code",
      "metadata": {
        "id": "ikAZmYFwizHD",
        "colab_type": "code",
        "colab": {}
      },
      "source": [
        "#create vector assembler from cols_assember\n",
        "assembler=VectorAssembler(inputCols=cols_assember, outputCol='features')\n",
        "tmp += [assembler]\n"
      ],
      "execution_count": 70,
      "outputs": []
    },
    {
      "cell_type": "code",
      "metadata": {
        "id": "A3UpB0KiizFD",
        "colab_type": "code",
        "colab": {}
      },
      "source": [
        "#create pipeline for stringIndexer, oneHotEncoder and vectorassembler\n",
        "pipeline=Pipeline(stages=tmp)\n",
        "\n",
        "#fit and transform pipeline to dataframe\n",
        "df_final = pipeline.fit(df).transform(df)\n"
      ],
      "execution_count": 71,
      "outputs": []
    },
    {
      "cell_type": "code",
      "metadata": {
        "id": "mNIZhe_Qiy_R",
        "colab_type": "code",
        "colab": {
          "base_uri": "https://localhost:8080/",
          "height": 211
        },
        "outputId": "56bf3fdb-12dd-43bb-a5ea-eaa5fbc2fa50"
      },
      "source": [
        "df_final.show(4)\n"
      ],
      "execution_count": 72,
      "outputs": [
        {
          "output_type": "stream",
          "text": [
            "+-------------+----------+-----------+--------+---+------+---------------+-----+-------------+-------+---+---------+--------+------+----+----+---------+----------------+------------+---------------+-----------+----------------+--------------+--------------+-------------+------------+-------------+-------------+-------------+----------------------+--------------------+------------------+----------------+---------------------+-------------------+--------------------+\n",
            "|battery_power|blue_color|clock_speed|dual_sim| fc|four_g|internal_memory|m_dep|mobile_weight|n_cores| pc|px_height|px_width|   ram|sc_h|sc_w|talk_time|three_generation|touch_screen|wifi_connection|price_range|blue_color_Index|blue_color_vec|dual_sim_Index| dual_sim_vec|four_g_Index|   four_g_vec|n_cores_Index|  n_cores_vec|three_generation_Index|three_generation_vec|touch_screen_Index|touch_screen_vec|wifi_connection_Index|wifi_connection_vec|            features|\n",
            "+-------------+----------+-----------+--------+---+------+---------------+-----+-------------+-------+---+---------+--------+------+----+----+---------+----------------+------------+---------------+-----------+----------------+--------------+--------------+-------------+------------+-------------+-------------+-------------+----------------------+--------------------+------------------+----------------+---------------------+-------------------+--------------------+\n",
            "|        842.0|        no|        2.2|      no|1.0|    no|            7.0|  0.6|        188.0|    two|2.0|     20.0|   756.0|2549.0| 9.0| 7.0|     19.0|              no|          no|            yes|        1.0|             0.0| (1,[0],[1.0])|           1.0|    (1,[],[])|         1.0|    (1,[],[])|          2.0|(6,[2],[1.0])|                   1.0|           (1,[],[])|               1.0|       (1,[],[])|                  0.0|      (1,[0],[1.0])|[842.0,2.2,1.0,7....|\n",
            "|       1021.0|       yes|        0.5|     yes|0.0|   yes|           53.0|  0.7|        136.0|  three|6.0|    905.0|  1988.0|2631.0|17.0| 3.0|      7.0|             yes|         yes|             no|        2.0|             1.0|     (1,[],[])|           0.0|(1,[0],[1.0])|         0.0|(1,[0],[1.0])|          4.0|(6,[4],[1.0])|                   0.0|       (1,[0],[1.0])|               0.0|   (1,[0],[1.0])|                  1.0|          (1,[],[])|[1021.0,0.5,0.0,5...|\n",
            "|        563.0|       yes|        0.5|     yes|2.0|   yes|           41.0|  0.9|        145.0|   five|6.0|   1263.0|  1716.0|2603.0|11.0| 2.0|      9.0|             yes|         yes|             no|        2.0|             1.0|     (1,[],[])|           0.0|(1,[0],[1.0])|         0.0|(1,[0],[1.0])|          3.0|(6,[3],[1.0])|                   0.0|       (1,[0],[1.0])|               0.0|   (1,[0],[1.0])|                  1.0|          (1,[],[])|[563.0,0.5,2.0,41...|\n",
            "|        615.0|       yes|        2.5|      no|0.0|    no|           10.0|  0.8|        131.0|    six|9.0|   1216.0|  1786.0|2769.0|16.0| 8.0|     11.0|             yes|          no|             no|        2.0|             1.0|     (1,[],[])|           1.0|    (1,[],[])|         1.0|    (1,[],[])|          6.0|    (6,[],[])|                   0.0|       (1,[0],[1.0])|               1.0|       (1,[],[])|                  1.0|          (1,[],[])|(26,[0,1,3,4,5,6,...|\n",
            "+-------------+----------+-----------+--------+---+------+---------------+-----+-------------+-------+---+---------+--------+------+----+----+---------+----------------+------------+---------------+-----------+----------------+--------------+--------------+-------------+------------+-------------+-------------+-------------+----------------------+--------------------+------------------+----------------+---------------------+-------------------+--------------------+\n",
            "only showing top 4 rows\n",
            "\n"
          ],
          "name": "stdout"
        }
      ]
    },
    {
      "cell_type": "code",
      "metadata": {
        "id": "4yd0SQt3iy9a",
        "colab_type": "code",
        "colab": {
          "base_uri": "https://localhost:8080/",
          "height": 34
        },
        "outputId": "d74188b7-577f-4683-8000-f153426aa127"
      },
      "source": [
        "type(df_final)"
      ],
      "execution_count": 73,
      "outputs": [
        {
          "output_type": "execute_result",
          "data": {
            "text/plain": [
              "pyspark.sql.dataframe.DataFrame"
            ]
          },
          "metadata": {
            "tags": []
          },
          "execution_count": 73
        }
      ]
    },
    {
      "cell_type": "code",
      "metadata": {
        "id": "IesiZ899ot-T",
        "colab_type": "code",
        "colab": {}
      },
      "source": [
        ""
      ],
      "execution_count": null,
      "outputs": []
    },
    {
      "cell_type": "markdown",
      "metadata": {
        "id": "5J9RxQXyooFU",
        "colab_type": "text"
      },
      "source": [
        "## Standard Scaler"
      ]
    },
    {
      "cell_type": "code",
      "metadata": {
        "id": "smyeUZxwiy7n",
        "colab_type": "code",
        "colab": {}
      },
      "source": [
        "#create model scaler for normalization\n",
        "scaler = StandardScaler(inputCol=\"features\", outputCol=\"scaledFeatures\", withStd=True, withMean=False)\n",
        "\n",
        "#Compute ScalerModel by fitting the StandardScaler\n",
        "scalerModel = scaler.fit(df_final)\n"
      ],
      "execution_count": 74,
      "outputs": []
    },
    {
      "cell_type": "code",
      "metadata": {
        "id": "lGNUdVz5iy5U",
        "colab_type": "code",
        "colab": {
          "base_uri": "https://localhost:8080/",
          "height": 469
        },
        "outputId": "109e30f5-3335-4877-bf6b-b5d27ade3aa3"
      },
      "source": [
        "# Normalize each features to have unit standard deviation.\n",
        "cluster_final_data = scalerModel.transform(df_final).select('scaledFeatures')\n",
        "cluster_final_data.show()\n"
      ],
      "execution_count": 75,
      "outputs": [
        {
          "output_type": "stream",
          "text": [
            "+--------------------+\n",
            "|      scaledFeatures|\n",
            "+--------------------+\n",
            "|[1.91670382331636...|\n",
            "|[2.32417411354633...|\n",
            "|[1.28159649943837...|\n",
            "|(26,[0,1,3,4,5,6,...|\n",
            "|[4.14527038273052...|\n",
            "|[4.23177245551677...|\n",
            "|[4.14527038273052...|\n",
            "|[4.44802763748240...|\n",
            "|(26,[0,1,3,4,5,6,...|\n",
            "|[1.15867250126844...|\n",
            "|(26,[0,1,3,4,5,6,...|\n",
            "|[3.46008291144997...|\n",
            "|(26,[0,1,2,3,4,5,...|\n",
            "|[1.82792538019363...|\n",
            "|[4.24770704787213...|\n",
            "|[2.82042284689902...|\n",
            "|[1.90759834197044...|\n",
            "|[1.35444035020574...|\n",
            "|[2.57457485055915...|\n",
            "|[1.55248456947952...|\n",
            "+--------------------+\n",
            "only showing top 20 rows\n",
            "\n"
          ],
          "name": "stdout"
        }
      ]
    },
    {
      "cell_type": "code",
      "metadata": {
        "id": "UW5tmGCviyz2",
        "colab_type": "code",
        "colab": {}
      },
      "source": [
        ""
      ],
      "execution_count": null,
      "outputs": []
    },
    {
      "cell_type": "markdown",
      "metadata": {
        "id": "1dl_j1AHrzH1",
        "colab_type": "text"
      },
      "source": [
        "## Model"
      ]
    },
    {
      "cell_type": "code",
      "metadata": {
        "id": "OmV9ylcMr1a5",
        "colab_type": "code",
        "colab": {}
      },
      "source": [
        "k = 4\n",
        "kmeans = KMeans().setK(k).setSeed(1).setFeaturesCol(\"features\")\n",
        "model = kmeans.fit(df_final)\n",
        "centers = model.clusterCenters()\n"
      ],
      "execution_count": 93,
      "outputs": []
    },
    {
      "cell_type": "code",
      "metadata": {
        "id": "_Of60cBgHK-U",
        "colab_type": "code",
        "colab": {
          "base_uri": "https://localhost:8080/",
          "height": 521
        },
        "outputId": "1cb0a432-523b-49ba-a78b-c60aed559f0d"
      },
      "source": [
        "print(\"Cluster Centers: \")\n",
        "for center in centers:\n",
        "    print(center)\n",
        "    "
      ],
      "execution_count": 94,
      "outputs": [
        {
          "output_type": "stream",
          "text": [
            "Cluster Centers: \n",
            "[1.23053521e+03 1.55598592e+00 4.37676056e+00 3.30387324e+01\n",
            " 5.05281690e-01 1.38123239e+02 1.01443662e+01 1.15462148e+03\n",
            " 1.68940493e+03 3.16548239e+03 1.28380282e+01 6.05281690e+00\n",
            " 1.10669014e+01 2.76408451e+00 4.96478873e-01 5.07042254e-01\n",
            " 5.38732394e-01 2.67605634e-01 1.47887324e-01 1.19718310e-01\n",
            " 1.19718310e-01 1.16197183e-01 1.23239437e-01 7.57042254e-01\n",
            " 4.75352113e-01 5.59859155e-01]\n",
            "[1.23996347e+03 1.51027397e+00 4.30365297e+00 3.30136986e+01\n",
            " 5.09817352e-01 1.41952055e+02 1.00228311e+01 3.82098174e+02\n",
            " 1.03394749e+03 3.40169406e+03 1.21027397e+01 5.78995434e+00\n",
            " 1.10045662e+01 2.62100457e+00 4.90867580e-01 5.47945205e-01\n",
            " 5.15981735e-01 2.51141553e-01 1.25570776e-01 1.32420091e-01\n",
            " 1.39269406e-01 1.09589041e-01 1.32420091e-01 7.62557078e-01\n",
            " 5.02283105e-01 5.11415525e-01]\n",
            "[1.25408555e+03 1.53436578e+00 4.19764012e+00 3.17020649e+01\n",
            " 5.02212389e-01 1.40654867e+02 9.66666667e+00 6.74412242e+02\n",
            " 1.27123156e+03 8.84629794e+02 1.23451327e+01 5.67994100e+00\n",
            " 1.08923304e+01 3.24483776e-01 5.28023599e-01 4.89675516e-01\n",
            " 5.22123894e-01 2.69911504e-01 1.17994100e-01 1.25368732e-01\n",
            " 1.09144543e-01 1.37168142e-01 1.17994100e-01 7.44837758e-01\n",
            " 5.23598820e-01 4.94100295e-01]\n",
            "[1.22442500e+03 1.50316667e+00 4.35666667e+00 3.12983333e+01\n",
            " 4.94333333e-01 1.39553333e+02 1.00133333e+01 5.62788333e+02\n",
            " 1.18017333e+03 2.09951333e+03 1.21600000e+01 5.71833333e+00\n",
            " 1.11233333e+01 1.41166667e+00 4.93333333e-01 5.05000000e-01\n",
            " 5.16666667e-01 2.68333333e-01 1.36666667e-01 1.16666667e-01\n",
            " 1.28333333e-01 1.20000000e-01 1.15000000e-01 7.81666667e-01\n",
            " 4.93333333e-01 4.96666667e-01]\n"
          ],
          "name": "stdout"
        }
      ]
    },
    {
      "cell_type": "code",
      "metadata": {
        "id": "NBJ7R2IOHK7K",
        "colab_type": "code",
        "colab": {}
      },
      "source": [
        "#transfrom model to dataset\n",
        "test=model.transform(df_final)\n"
      ],
      "execution_count": 95,
      "outputs": []
    },
    {
      "cell_type": "code",
      "metadata": {
        "id": "_ez_ay1lr1iR",
        "colab_type": "code",
        "colab": {
          "base_uri": "https://localhost:8080/",
          "height": 34
        },
        "outputId": "c52fb404-d13e-4e18-b7cf-1e1d46290a97"
      },
      "source": [
        "type(test)\n"
      ],
      "execution_count": 96,
      "outputs": [
        {
          "output_type": "execute_result",
          "data": {
            "text/plain": [
              "pyspark.sql.dataframe.DataFrame"
            ]
          },
          "metadata": {
            "tags": []
          },
          "execution_count": 96
        }
      ]
    },
    {
      "cell_type": "code",
      "metadata": {
        "id": "rTD3euyTr1nV",
        "colab_type": "code",
        "colab": {
          "base_uri": "https://localhost:8080/",
          "height": 211
        },
        "outputId": "3f0bc0eb-272a-40cf-b859-75cc0851a35f"
      },
      "source": [
        "test.show(4)\n"
      ],
      "execution_count": 97,
      "outputs": [
        {
          "output_type": "stream",
          "text": [
            "+-------------+----------+-----------+--------+---+------+---------------+-----+-------------+-------+---+---------+--------+------+----+----+---------+----------------+------------+---------------+-----------+----------------+--------------+--------------+-------------+------------+-------------+-------------+-------------+----------------------+--------------------+------------------+----------------+---------------------+-------------------+--------------------+----------+\n",
            "|battery_power|blue_color|clock_speed|dual_sim| fc|four_g|internal_memory|m_dep|mobile_weight|n_cores| pc|px_height|px_width|   ram|sc_h|sc_w|talk_time|three_generation|touch_screen|wifi_connection|price_range|blue_color_Index|blue_color_vec|dual_sim_Index| dual_sim_vec|four_g_Index|   four_g_vec|n_cores_Index|  n_cores_vec|three_generation_Index|three_generation_vec|touch_screen_Index|touch_screen_vec|wifi_connection_Index|wifi_connection_vec|            features|prediction|\n",
            "+-------------+----------+-----------+--------+---+------+---------------+-----+-------------+-------+---+---------+--------+------+----+----+---------+----------------+------------+---------------+-----------+----------------+--------------+--------------+-------------+------------+-------------+-------------+-------------+----------------------+--------------------+------------------+----------------+---------------------+-------------------+--------------------+----------+\n",
            "|        842.0|        no|        2.2|      no|1.0|    no|            7.0|  0.6|        188.0|    two|2.0|     20.0|   756.0|2549.0| 9.0| 7.0|     19.0|              no|          no|            yes|        1.0|             0.0| (1,[0],[1.0])|           1.0|    (1,[],[])|         1.0|    (1,[],[])|          2.0|(6,[2],[1.0])|                   1.0|           (1,[],[])|               1.0|       (1,[],[])|                  0.0|      (1,[0],[1.0])|[842.0,2.2,1.0,7....|         3|\n",
            "|       1021.0|       yes|        0.5|     yes|0.0|   yes|           53.0|  0.7|        136.0|  three|6.0|    905.0|  1988.0|2631.0|17.0| 3.0|      7.0|             yes|         yes|             no|        2.0|             1.0|     (1,[],[])|           0.0|(1,[0],[1.0])|         0.0|(1,[0],[1.0])|          4.0|(6,[4],[1.0])|                   0.0|       (1,[0],[1.0])|               0.0|   (1,[0],[1.0])|                  1.0|          (1,[],[])|[1021.0,0.5,0.0,5...|         0|\n",
            "|        563.0|       yes|        0.5|     yes|2.0|   yes|           41.0|  0.9|        145.0|   five|6.0|   1263.0|  1716.0|2603.0|11.0| 2.0|      9.0|             yes|         yes|             no|        2.0|             1.0|     (1,[],[])|           0.0|(1,[0],[1.0])|         0.0|(1,[0],[1.0])|          3.0|(6,[3],[1.0])|                   0.0|       (1,[0],[1.0])|               0.0|   (1,[0],[1.0])|                  1.0|          (1,[],[])|[563.0,0.5,2.0,41...|         0|\n",
            "|        615.0|       yes|        2.5|      no|0.0|    no|           10.0|  0.8|        131.0|    six|9.0|   1216.0|  1786.0|2769.0|16.0| 8.0|     11.0|             yes|          no|             no|        2.0|             1.0|     (1,[],[])|           1.0|    (1,[],[])|         1.0|    (1,[],[])|          6.0|    (6,[],[])|                   0.0|       (1,[0],[1.0])|               1.0|       (1,[],[])|                  1.0|          (1,[],[])|(26,[0,1,3,4,5,6,...|         0|\n",
            "+-------------+----------+-----------+--------+---+------+---------------+-----+-------------+-------+---+---------+--------+------+----+----+---------+----------------+------------+---------------+-----------+----------------+--------------+--------------+-------------+------------+-------------+-------------+-------------+----------------------+--------------------+------------------+----------------+---------------------+-------------------+--------------------+----------+\n",
            "only showing top 4 rows\n",
            "\n"
          ],
          "name": "stdout"
        }
      ]
    },
    {
      "cell_type": "code",
      "metadata": {
        "id": "iPf-lpBKr1lz",
        "colab_type": "code",
        "colab": {
          "base_uri": "https://localhost:8080/",
          "height": 260
        },
        "outputId": "c74d0c98-ca60-42b7-a53c-6a94ebebce13"
      },
      "source": [
        "num_cols"
      ],
      "execution_count": 98,
      "outputs": [
        {
          "output_type": "execute_result",
          "data": {
            "text/plain": [
              "['battery_power',\n",
              " 'clock_speed',\n",
              " 'fc',\n",
              " 'internal_memory',\n",
              " 'm_dep',\n",
              " 'mobile_weight',\n",
              " 'pc',\n",
              " 'px_height',\n",
              " 'px_width',\n",
              " 'ram',\n",
              " 'sc_h',\n",
              " 'sc_w',\n",
              " 'talk_time',\n",
              " 'price_range']"
            ]
          },
          "metadata": {
            "tags": []
          },
          "execution_count": 98
        }
      ]
    },
    {
      "cell_type": "code",
      "metadata": {
        "id": "a8KdYMlyr1gB",
        "colab_type": "code",
        "colab": {}
      },
      "source": [
        ""
      ],
      "execution_count": 98,
      "outputs": []
    },
    {
      "cell_type": "code",
      "metadata": {
        "id": "4Jqlv4xir1eZ",
        "colab_type": "code",
        "colab": {}
      },
      "source": [
        "#Assign cluster to the event in data\n",
        "prediction= model.transform(df_final).select(*num_cols,*cat_cols, 'prediction').collect()\n",
        "\n",
        "#create dataframe \n",
        "prediction=spark.createDataFrame(prediction)"
      ],
      "execution_count": 99,
      "outputs": []
    },
    {
      "cell_type": "code",
      "metadata": {
        "id": "82yvYLmrhj_e",
        "colab_type": "code",
        "colab": {
          "base_uri": "https://localhost:8080/",
          "height": 489
        },
        "outputId": "90e17121-6e0a-44ab-a81a-9f2dffe5efd3"
      },
      "source": [
        "prediction.show()"
      ],
      "execution_count": 100,
      "outputs": [
        {
          "output_type": "stream",
          "text": [
            "+-------------+-----------+----+---------------+-----+-------------+----+---------+--------+------+----+----+---------+-----------+----------+--------+------+-------+----------------+------------+---------------+----------+\n",
            "|battery_power|clock_speed|  fc|internal_memory|m_dep|mobile_weight|  pc|px_height|px_width|   ram|sc_h|sc_w|talk_time|price_range|blue_color|dual_sim|four_g|n_cores|three_generation|touch_screen|wifi_connection|prediction|\n",
            "+-------------+-----------+----+---------------+-----+-------------+----+---------+--------+------+----+----+---------+-----------+----------+--------+------+-------+----------------+------------+---------------+----------+\n",
            "|        842.0|        2.2| 1.0|            7.0|  0.6|        188.0| 2.0|     20.0|   756.0|2549.0| 9.0| 7.0|     19.0|        1.0|        no|      no|    no|    two|              no|          no|            yes|         3|\n",
            "|       1021.0|        0.5| 0.0|           53.0|  0.7|        136.0| 6.0|    905.0|  1988.0|2631.0|17.0| 3.0|      7.0|        2.0|       yes|     yes|   yes|  three|             yes|         yes|             no|         0|\n",
            "|        563.0|        0.5| 2.0|           41.0|  0.9|        145.0| 6.0|   1263.0|  1716.0|2603.0|11.0| 2.0|      9.0|        2.0|       yes|     yes|   yes|   five|             yes|         yes|             no|         0|\n",
            "|        615.0|        2.5| 0.0|           10.0|  0.8|        131.0| 9.0|   1216.0|  1786.0|2769.0|16.0| 8.0|     11.0|        2.0|       yes|      no|    no|    six|             yes|          no|             no|         0|\n",
            "|       1821.0|        1.2|13.0|           44.0|  0.6|        141.0|14.0|   1208.0|  1212.0|1411.0| 8.0| 2.0|     15.0|        1.0|       yes|      no|   yes|    two|             yes|         yes|             no|         2|\n",
            "|       1859.0|        0.5| 3.0|           22.0|  0.7|        164.0| 7.0|   1004.0|  1654.0|1067.0|17.0| 1.0|     10.0|        1.0|        no|     yes|    no|    one|             yes|          no|             no|         2|\n",
            "|       1821.0|        1.7| 4.0|           10.0|  0.8|        139.0|10.0|    381.0|  1018.0|3220.0|13.0| 8.0|     18.0|        3.0|        no|      no|   yes|   four|             yes|          no|            yes|         1|\n",
            "|       1954.0|        0.5| 0.0|           24.0|  0.8|        187.0| 0.0|    512.0|  1149.0| 700.0|16.0| 3.0|      5.0|        0.0|        no|     yes|    no|   four|             yes|         yes|            yes|         2|\n",
            "|       1445.0|        0.5| 0.0|           53.0|  0.7|        174.0|14.0|    386.0|   836.0|1099.0|17.0| 1.0|     20.0|        0.0|       yes|      no|    no|  seven|             yes|          no|             no|         2|\n",
            "|        509.0|        0.6| 2.0|            9.0|  0.1|         93.0|15.0|   1137.0|  1224.0| 513.0|19.0|10.0|     12.0|        0.0|       yes|     yes|   yes|   five|             yes|          no|             no|         2|\n",
            "|        769.0|        2.9| 0.0|            9.0|  0.1|        182.0| 1.0|    248.0|   874.0|3946.0| 5.0| 2.0|      7.0|        3.0|       yes|     yes|    no|   five|              no|          no|             no|         1|\n",
            "|       1520.0|        2.2| 5.0|           33.0|  0.5|        177.0|18.0|    151.0|  1005.0|3826.0|14.0| 9.0|     13.0|        3.0|       yes|      no|   yes|   four|             yes|         yes|            yes|         1|\n",
            "|       1815.0|        2.8| 2.0|           33.0|  0.6|        159.0|17.0|    607.0|   748.0|1482.0|18.0| 0.0|      2.0|        1.0|        no|      no|    no|   four|             yes|          no|             no|         3|\n",
            "|        803.0|        2.1| 7.0|           17.0|  1.0|        198.0|11.0|    344.0|  1440.0|2680.0| 7.0| 1.0|      4.0|        2.0|       yes|      no|    no|   four|             yes|          no|            yes|         3|\n",
            "|       1866.0|        0.5|13.0|           52.0|  0.7|        185.0|17.0|    356.0|   563.0| 373.0|14.0| 9.0|      3.0|        0.0|        no|      no|   yes|    one|             yes|          no|            yes|         2|\n",
            "|       1239.0|        1.0| 3.0|           46.0|  0.7|        159.0|16.0|    862.0|  1864.0| 568.0|17.0|15.0|     11.0|        0.0|        no|      no|    no|    two|             yes|         yes|            yes|         2|\n",
            "|        838.0|        0.5| 1.0|           13.0|  0.1|        196.0| 4.0|    984.0|  1850.0|3554.0|10.0| 9.0|     19.0|        3.0|        no|      no|   yes|   four|             yes|          no|            yes|         0|\n",
            "|        595.0|        0.9| 7.0|           23.0|  0.1|        121.0|17.0|    441.0|   810.0|3752.0|10.0| 2.0|     18.0|        3.0|        no|     yes|   yes|  three|             yes|         yes|             no|         1|\n",
            "|       1131.0|        0.5|11.0|           49.0|  0.6|        101.0|18.0|    658.0|   878.0|1835.0|19.0|13.0|     16.0|        1.0|       yes|     yes|    no|   five|             yes|         yes|             no|         3|\n",
            "|        682.0|        0.5| 4.0|           19.0|  1.0|        121.0|11.0|    902.0|  1064.0|2337.0|11.0| 1.0|     18.0|        1.0|       yes|      no|    no|   four|              no|         yes|            yes|         3|\n",
            "+-------------+-----------+----+---------------+-----+-------------+----+---------+--------+------+----+----+---------+-----------+----------+--------+------+-------+----------------+------------+---------------+----------+\n",
            "only showing top 20 rows\n",
            "\n"
          ],
          "name": "stdout"
        }
      ]
    },
    {
      "cell_type": "code",
      "metadata": {
        "id": "KjFaZbemhkub",
        "colab_type": "code",
        "colab": {
          "base_uri": "https://localhost:8080/",
          "height": 173
        },
        "outputId": "6c6ecefd-447a-44ab-c7d3-6990c4727857"
      },
      "source": [
        "#grouping by our prediction of cluster\n",
        "prediction.groupBy('prediction').count().sort(col('prediction')).show()"
      ],
      "execution_count": 101,
      "outputs": [
        {
          "output_type": "stream",
          "text": [
            "+----------+-----+\n",
            "|prediction|count|\n",
            "+----------+-----+\n",
            "|         0|  284|\n",
            "|         1|  437|\n",
            "|         2|  678|\n",
            "|         3|  601|\n",
            "+----------+-----+\n",
            "\n"
          ],
          "name": "stdout"
        }
      ]
    },
    {
      "cell_type": "code",
      "metadata": {
        "id": "O3LmjVX8nwuv",
        "colab_type": "code",
        "colab": {}
      },
      "source": [
        ""
      ],
      "execution_count": null,
      "outputs": []
    },
    {
      "cell_type": "markdown",
      "metadata": {
        "id": "G8fXfMpHsB_X",
        "colab_type": "text"
      },
      "source": [
        "## Visualize the result"
      ]
    },
    {
      "cell_type": "code",
      "metadata": {
        "id": "-w9MBxc_sEno",
        "colab_type": "code",
        "colab": {
          "base_uri": "https://localhost:8080/",
          "height": 226
        },
        "outputId": "ac87842f-ea1b-415d-af09-d1002e8709a2"
      },
      "source": [
        "#convert prediction to Pandas\n",
        "pred_pd=prediction.toPandas()\n",
        "\n",
        "#show pandas dataframe\n",
        "pred_pd.head(5)\n"
      ],
      "execution_count": 103,
      "outputs": [
        {
          "output_type": "execute_result",
          "data": {
            "text/html": [
              "<div>\n",
              "<style scoped>\n",
              "    .dataframe tbody tr th:only-of-type {\n",
              "        vertical-align: middle;\n",
              "    }\n",
              "\n",
              "    .dataframe tbody tr th {\n",
              "        vertical-align: top;\n",
              "    }\n",
              "\n",
              "    .dataframe thead th {\n",
              "        text-align: right;\n",
              "    }\n",
              "</style>\n",
              "<table border=\"1\" class=\"dataframe\">\n",
              "  <thead>\n",
              "    <tr style=\"text-align: right;\">\n",
              "      <th></th>\n",
              "      <th>battery_power</th>\n",
              "      <th>clock_speed</th>\n",
              "      <th>fc</th>\n",
              "      <th>internal_memory</th>\n",
              "      <th>m_dep</th>\n",
              "      <th>mobile_weight</th>\n",
              "      <th>pc</th>\n",
              "      <th>px_height</th>\n",
              "      <th>px_width</th>\n",
              "      <th>ram</th>\n",
              "      <th>sc_h</th>\n",
              "      <th>sc_w</th>\n",
              "      <th>talk_time</th>\n",
              "      <th>price_range</th>\n",
              "      <th>blue_color</th>\n",
              "      <th>dual_sim</th>\n",
              "      <th>four_g</th>\n",
              "      <th>n_cores</th>\n",
              "      <th>three_generation</th>\n",
              "      <th>touch_screen</th>\n",
              "      <th>wifi_connection</th>\n",
              "      <th>prediction</th>\n",
              "    </tr>\n",
              "  </thead>\n",
              "  <tbody>\n",
              "    <tr>\n",
              "      <th>0</th>\n",
              "      <td>842.0</td>\n",
              "      <td>2.2</td>\n",
              "      <td>1.0</td>\n",
              "      <td>7.0</td>\n",
              "      <td>0.6</td>\n",
              "      <td>188.0</td>\n",
              "      <td>2.0</td>\n",
              "      <td>20.0</td>\n",
              "      <td>756.0</td>\n",
              "      <td>2549.0</td>\n",
              "      <td>9.0</td>\n",
              "      <td>7.0</td>\n",
              "      <td>19.0</td>\n",
              "      <td>1.0</td>\n",
              "      <td>no</td>\n",
              "      <td>no</td>\n",
              "      <td>no</td>\n",
              "      <td>two</td>\n",
              "      <td>no</td>\n",
              "      <td>no</td>\n",
              "      <td>yes</td>\n",
              "      <td>3</td>\n",
              "    </tr>\n",
              "    <tr>\n",
              "      <th>1</th>\n",
              "      <td>1021.0</td>\n",
              "      <td>0.5</td>\n",
              "      <td>0.0</td>\n",
              "      <td>53.0</td>\n",
              "      <td>0.7</td>\n",
              "      <td>136.0</td>\n",
              "      <td>6.0</td>\n",
              "      <td>905.0</td>\n",
              "      <td>1988.0</td>\n",
              "      <td>2631.0</td>\n",
              "      <td>17.0</td>\n",
              "      <td>3.0</td>\n",
              "      <td>7.0</td>\n",
              "      <td>2.0</td>\n",
              "      <td>yes</td>\n",
              "      <td>yes</td>\n",
              "      <td>yes</td>\n",
              "      <td>three</td>\n",
              "      <td>yes</td>\n",
              "      <td>yes</td>\n",
              "      <td>no</td>\n",
              "      <td>0</td>\n",
              "    </tr>\n",
              "    <tr>\n",
              "      <th>2</th>\n",
              "      <td>563.0</td>\n",
              "      <td>0.5</td>\n",
              "      <td>2.0</td>\n",
              "      <td>41.0</td>\n",
              "      <td>0.9</td>\n",
              "      <td>145.0</td>\n",
              "      <td>6.0</td>\n",
              "      <td>1263.0</td>\n",
              "      <td>1716.0</td>\n",
              "      <td>2603.0</td>\n",
              "      <td>11.0</td>\n",
              "      <td>2.0</td>\n",
              "      <td>9.0</td>\n",
              "      <td>2.0</td>\n",
              "      <td>yes</td>\n",
              "      <td>yes</td>\n",
              "      <td>yes</td>\n",
              "      <td>five</td>\n",
              "      <td>yes</td>\n",
              "      <td>yes</td>\n",
              "      <td>no</td>\n",
              "      <td>0</td>\n",
              "    </tr>\n",
              "    <tr>\n",
              "      <th>3</th>\n",
              "      <td>615.0</td>\n",
              "      <td>2.5</td>\n",
              "      <td>0.0</td>\n",
              "      <td>10.0</td>\n",
              "      <td>0.8</td>\n",
              "      <td>131.0</td>\n",
              "      <td>9.0</td>\n",
              "      <td>1216.0</td>\n",
              "      <td>1786.0</td>\n",
              "      <td>2769.0</td>\n",
              "      <td>16.0</td>\n",
              "      <td>8.0</td>\n",
              "      <td>11.0</td>\n",
              "      <td>2.0</td>\n",
              "      <td>yes</td>\n",
              "      <td>no</td>\n",
              "      <td>no</td>\n",
              "      <td>six</td>\n",
              "      <td>yes</td>\n",
              "      <td>no</td>\n",
              "      <td>no</td>\n",
              "      <td>0</td>\n",
              "    </tr>\n",
              "    <tr>\n",
              "      <th>4</th>\n",
              "      <td>1821.0</td>\n",
              "      <td>1.2</td>\n",
              "      <td>13.0</td>\n",
              "      <td>44.0</td>\n",
              "      <td>0.6</td>\n",
              "      <td>141.0</td>\n",
              "      <td>14.0</td>\n",
              "      <td>1208.0</td>\n",
              "      <td>1212.0</td>\n",
              "      <td>1411.0</td>\n",
              "      <td>8.0</td>\n",
              "      <td>2.0</td>\n",
              "      <td>15.0</td>\n",
              "      <td>1.0</td>\n",
              "      <td>yes</td>\n",
              "      <td>no</td>\n",
              "      <td>yes</td>\n",
              "      <td>two</td>\n",
              "      <td>yes</td>\n",
              "      <td>yes</td>\n",
              "      <td>no</td>\n",
              "      <td>2</td>\n",
              "    </tr>\n",
              "  </tbody>\n",
              "</table>\n",
              "</div>"
            ],
            "text/plain": [
              "   battery_power  clock_speed    fc  ...  touch_screen  wifi_connection  prediction\n",
              "0          842.0          2.2   1.0  ...            no              yes           3\n",
              "1         1021.0          0.5   0.0  ...           yes               no           0\n",
              "2          563.0          0.5   2.0  ...           yes               no           0\n",
              "3          615.0          2.5   0.0  ...            no               no           0\n",
              "4         1821.0          1.2  13.0  ...           yes               no           2\n",
              "\n",
              "[5 rows x 22 columns]"
            ]
          },
          "metadata": {
            "tags": []
          },
          "execution_count": 103
        }
      ]
    },
    {
      "cell_type": "code",
      "metadata": {
        "id": "EPxFG2hnsEsz",
        "colab_type": "code",
        "colab": {
          "base_uri": "https://localhost:8080/",
          "height": 575
        },
        "outputId": "dc6414ae-894d-4ce2-9f6f-745f1bb4df96"
      },
      "source": [
        "#Create 3d visualization\n",
        "threedee = plt.figure(figsize=(12,10)).gca(projection='3d')\n",
        "threedee.scatter(pred_pd.battery_power, pred_pd.internal_memory, pred_pd.mobile_weight, c=pred_pd.prediction, cmap=\"seismic\")\n",
        "threedee.set_title('Customer Mall CLustering')\n",
        "threedee.set_xlabel('Age')\n",
        "threedee.set_ylabel('AnnIncome')\n",
        "threedee.set_zlabel('SpendScore')\n",
        "plt.show()\n"
      ],
      "execution_count": 106,
      "outputs": [
        {
          "output_type": "display_data",
          "data": {
            "image/png": "[encoded data removed]",
            "text/plain": [
              "<Figure size 864x720 with 1 Axes>"
            ]
          },
          "metadata": {
            "tags": [],
            "needs_background": "light"
          }
        }
      ]
    },
    {
      "cell_type": "code",
      "metadata": {
        "id": "W3wDwFTDsEz2",
        "colab_type": "code",
        "colab": {}
      },
      "source": [
        ""
      ],
      "execution_count": null,
      "outputs": []
    },
    {
      "cell_type": "code",
      "metadata": {
        "id": "eodnbtDVsErG",
        "colab_type": "code",
        "colab": {}
      },
      "source": [
        ""
      ],
      "execution_count": null,
      "outputs": []
    }
  ]
}